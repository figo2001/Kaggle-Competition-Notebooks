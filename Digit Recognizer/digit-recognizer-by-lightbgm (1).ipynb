{
 "cells": [
  {
   "cell_type": "markdown",
   "id": "4aee4904",
   "metadata": {
    "papermill": {
     "duration": 0.016247,
     "end_time": "2024-01-19T21:41:34.129405",
     "exception": false,
     "start_time": "2024-01-19T21:41:34.113158",
     "status": "completed"
    },
    "tags": []
   },
   "source": [
    "<div style=\"background-color: #F2F3F4; padding: 20px; border-radius: 10px;\">\n",
    "    <p style=\"font-size: 24px; font-family: 'Verdana'; color: #3A405A; text-align: center;\">\n",
    "Welcome to this notebook!</p>\n",
    "</div>"
   ]
  },
  {
   "cell_type": "markdown",
   "id": "f944fd69",
   "metadata": {
    "papermill": {
     "duration": 0.015611,
     "end_time": "2024-01-19T21:41:34.160618",
     "exception": false,
     "start_time": "2024-01-19T21:41:34.145007",
     "status": "completed"
    },
    "tags": []
   },
   "source": [
    "<b><span style=\"color: #5F5F5F; background-color: #F2F4F2; padding: 20px; font-size: 18px; border-left: 8px solid #A9A9A9\"> Importing libraries </span></b>"
   ]
  },
  {
   "cell_type": "code",
   "execution_count": 1,
   "id": "22fe664f",
   "metadata": {
    "execution": {
     "iopub.execute_input": "2024-01-19T21:41:34.193836Z",
     "iopub.status.busy": "2024-01-19T21:41:34.193480Z",
     "iopub.status.idle": "2024-01-19T21:41:39.495980Z",
     "shell.execute_reply": "2024-01-19T21:41:39.495170Z"
    },
    "papermill": {
     "duration": 5.322274,
     "end_time": "2024-01-19T21:41:39.498268",
     "exception": false,
     "start_time": "2024-01-19T21:41:34.175994",
     "status": "completed"
    },
    "tags": []
   },
   "outputs": [
    {
     "name": "stderr",
     "output_type": "stream",
     "text": [
      "/opt/conda/lib/python3.10/site-packages/scipy/__init__.py:146: UserWarning: A NumPy version >=1.16.5 and <1.23.0 is required for this version of SciPy (detected version 1.24.3\n",
      "  warnings.warn(f\"A NumPy version >={np_minversion} and <{np_maxversion}\"\n",
      "/opt/conda/lib/python3.10/site-packages/dask/dataframe/_pyarrow_compat.py:23: UserWarning: You are using pyarrow version 11.0.0 which is known to be insecure. See https://www.cve.org/CVERecord?id=CVE-2023-47248 for further details. Please upgrade to pyarrow>=14.0.1 or install pyarrow-hotfix to patch your current version.\n",
      "  warnings.warn(\n"
     ]
    }
   ],
   "source": [
    "import numpy as np\n",
    "import pandas as pd\n",
    "import matplotlib.pyplot as plt\n",
    "import seaborn as sn\n",
    "\n",
    "from sklearn.preprocessing import LabelEncoder,StandardScaler\n",
    "from sklearn.model_selection import train_test_split\n",
    "from sklearn.metrics import accuracy_score,classification_report, confusion_matrix\n",
    "\n",
    "from sklearn.linear_model import LogisticRegression\n",
    "from sklearn.ensemble import RandomForestClassifier\n",
    "from sklearn.tree import DecisionTreeClassifier\n",
    "from xgboost import XGBClassifier\n",
    "from lightgbm import LGBMClassifier"
   ]
  },
  {
   "cell_type": "markdown",
   "id": "8ac5912b",
   "metadata": {
    "papermill": {
     "duration": 0.015892,
     "end_time": "2024-01-19T21:41:39.530387",
     "exception": false,
     "start_time": "2024-01-19T21:41:39.514495",
     "status": "completed"
    },
    "tags": []
   },
   "source": [
    "<b><span style=\"color: #5F5F5F; background-color: #F2F4F2; padding: 20px; font-size: 18px; border-left: 8px solid #A9A9A9\">Loading the csv file</span></b>"
   ]
  },
  {
   "cell_type": "code",
   "execution_count": 2,
   "id": "f16de8f1",
   "metadata": {
    "execution": {
     "iopub.execute_input": "2024-01-19T21:41:39.563492Z",
     "iopub.status.busy": "2024-01-19T21:41:39.562806Z",
     "iopub.status.idle": "2024-01-19T21:41:42.926043Z",
     "shell.execute_reply": "2024-01-19T21:41:42.925034Z"
    },
    "papermill": {
     "duration": 3.382431,
     "end_time": "2024-01-19T21:41:42.928433",
     "exception": false,
     "start_time": "2024-01-19T21:41:39.546002",
     "status": "completed"
    },
    "tags": []
   },
   "outputs": [],
   "source": [
    "df=pd.read_csv('/kaggle/input/digit-recognizer/train.csv')"
   ]
  },
  {
   "cell_type": "code",
   "execution_count": 3,
   "id": "98e73d0e",
   "metadata": {
    "execution": {
     "iopub.execute_input": "2024-01-19T21:41:42.963570Z",
     "iopub.status.busy": "2024-01-19T21:41:42.963246Z",
     "iopub.status.idle": "2024-01-19T21:41:42.985795Z",
     "shell.execute_reply": "2024-01-19T21:41:42.984888Z"
    },
    "papermill": {
     "duration": 0.041457,
     "end_time": "2024-01-19T21:41:42.987778",
     "exception": false,
     "start_time": "2024-01-19T21:41:42.946321",
     "status": "completed"
    },
    "tags": []
   },
   "outputs": [
    {
     "data": {
      "text/html": [
       "<div>\n",
       "<style scoped>\n",
       "    .dataframe tbody tr th:only-of-type {\n",
       "        vertical-align: middle;\n",
       "    }\n",
       "\n",
       "    .dataframe tbody tr th {\n",
       "        vertical-align: top;\n",
       "    }\n",
       "\n",
       "    .dataframe thead th {\n",
       "        text-align: right;\n",
       "    }\n",
       "</style>\n",
       "<table border=\"1\" class=\"dataframe\">\n",
       "  <thead>\n",
       "    <tr style=\"text-align: right;\">\n",
       "      <th></th>\n",
       "      <th>label</th>\n",
       "      <th>pixel0</th>\n",
       "      <th>pixel1</th>\n",
       "      <th>pixel2</th>\n",
       "      <th>pixel3</th>\n",
       "      <th>pixel4</th>\n",
       "      <th>pixel5</th>\n",
       "      <th>pixel6</th>\n",
       "      <th>pixel7</th>\n",
       "      <th>pixel8</th>\n",
       "      <th>...</th>\n",
       "      <th>pixel774</th>\n",
       "      <th>pixel775</th>\n",
       "      <th>pixel776</th>\n",
       "      <th>pixel777</th>\n",
       "      <th>pixel778</th>\n",
       "      <th>pixel779</th>\n",
       "      <th>pixel780</th>\n",
       "      <th>pixel781</th>\n",
       "      <th>pixel782</th>\n",
       "      <th>pixel783</th>\n",
       "    </tr>\n",
       "  </thead>\n",
       "  <tbody>\n",
       "    <tr>\n",
       "      <th>0</th>\n",
       "      <td>1</td>\n",
       "      <td>0</td>\n",
       "      <td>0</td>\n",
       "      <td>0</td>\n",
       "      <td>0</td>\n",
       "      <td>0</td>\n",
       "      <td>0</td>\n",
       "      <td>0</td>\n",
       "      <td>0</td>\n",
       "      <td>0</td>\n",
       "      <td>...</td>\n",
       "      <td>0</td>\n",
       "      <td>0</td>\n",
       "      <td>0</td>\n",
       "      <td>0</td>\n",
       "      <td>0</td>\n",
       "      <td>0</td>\n",
       "      <td>0</td>\n",
       "      <td>0</td>\n",
       "      <td>0</td>\n",
       "      <td>0</td>\n",
       "    </tr>\n",
       "    <tr>\n",
       "      <th>1</th>\n",
       "      <td>0</td>\n",
       "      <td>0</td>\n",
       "      <td>0</td>\n",
       "      <td>0</td>\n",
       "      <td>0</td>\n",
       "      <td>0</td>\n",
       "      <td>0</td>\n",
       "      <td>0</td>\n",
       "      <td>0</td>\n",
       "      <td>0</td>\n",
       "      <td>...</td>\n",
       "      <td>0</td>\n",
       "      <td>0</td>\n",
       "      <td>0</td>\n",
       "      <td>0</td>\n",
       "      <td>0</td>\n",
       "      <td>0</td>\n",
       "      <td>0</td>\n",
       "      <td>0</td>\n",
       "      <td>0</td>\n",
       "      <td>0</td>\n",
       "    </tr>\n",
       "    <tr>\n",
       "      <th>2</th>\n",
       "      <td>1</td>\n",
       "      <td>0</td>\n",
       "      <td>0</td>\n",
       "      <td>0</td>\n",
       "      <td>0</td>\n",
       "      <td>0</td>\n",
       "      <td>0</td>\n",
       "      <td>0</td>\n",
       "      <td>0</td>\n",
       "      <td>0</td>\n",
       "      <td>...</td>\n",
       "      <td>0</td>\n",
       "      <td>0</td>\n",
       "      <td>0</td>\n",
       "      <td>0</td>\n",
       "      <td>0</td>\n",
       "      <td>0</td>\n",
       "      <td>0</td>\n",
       "      <td>0</td>\n",
       "      <td>0</td>\n",
       "      <td>0</td>\n",
       "    </tr>\n",
       "    <tr>\n",
       "      <th>3</th>\n",
       "      <td>4</td>\n",
       "      <td>0</td>\n",
       "      <td>0</td>\n",
       "      <td>0</td>\n",
       "      <td>0</td>\n",
       "      <td>0</td>\n",
       "      <td>0</td>\n",
       "      <td>0</td>\n",
       "      <td>0</td>\n",
       "      <td>0</td>\n",
       "      <td>...</td>\n",
       "      <td>0</td>\n",
       "      <td>0</td>\n",
       "      <td>0</td>\n",
       "      <td>0</td>\n",
       "      <td>0</td>\n",
       "      <td>0</td>\n",
       "      <td>0</td>\n",
       "      <td>0</td>\n",
       "      <td>0</td>\n",
       "      <td>0</td>\n",
       "    </tr>\n",
       "    <tr>\n",
       "      <th>4</th>\n",
       "      <td>0</td>\n",
       "      <td>0</td>\n",
       "      <td>0</td>\n",
       "      <td>0</td>\n",
       "      <td>0</td>\n",
       "      <td>0</td>\n",
       "      <td>0</td>\n",
       "      <td>0</td>\n",
       "      <td>0</td>\n",
       "      <td>0</td>\n",
       "      <td>...</td>\n",
       "      <td>0</td>\n",
       "      <td>0</td>\n",
       "      <td>0</td>\n",
       "      <td>0</td>\n",
       "      <td>0</td>\n",
       "      <td>0</td>\n",
       "      <td>0</td>\n",
       "      <td>0</td>\n",
       "      <td>0</td>\n",
       "      <td>0</td>\n",
       "    </tr>\n",
       "  </tbody>\n",
       "</table>\n",
       "<p>5 rows × 785 columns</p>\n",
       "</div>"
      ],
      "text/plain": [
       "   label  pixel0  pixel1  pixel2  pixel3  pixel4  pixel5  pixel6  pixel7  \\\n",
       "0      1       0       0       0       0       0       0       0       0   \n",
       "1      0       0       0       0       0       0       0       0       0   \n",
       "2      1       0       0       0       0       0       0       0       0   \n",
       "3      4       0       0       0       0       0       0       0       0   \n",
       "4      0       0       0       0       0       0       0       0       0   \n",
       "\n",
       "   pixel8  ...  pixel774  pixel775  pixel776  pixel777  pixel778  pixel779  \\\n",
       "0       0  ...         0         0         0         0         0         0   \n",
       "1       0  ...         0         0         0         0         0         0   \n",
       "2       0  ...         0         0         0         0         0         0   \n",
       "3       0  ...         0         0         0         0         0         0   \n",
       "4       0  ...         0         0         0         0         0         0   \n",
       "\n",
       "   pixel780  pixel781  pixel782  pixel783  \n",
       "0         0         0         0         0  \n",
       "1         0         0         0         0  \n",
       "2         0         0         0         0  \n",
       "3         0         0         0         0  \n",
       "4         0         0         0         0  \n",
       "\n",
       "[5 rows x 785 columns]"
      ]
     },
     "execution_count": 3,
     "metadata": {},
     "output_type": "execute_result"
    }
   ],
   "source": [
    "df.head()"
   ]
  },
  {
   "cell_type": "markdown",
   "id": "e1e394aa",
   "metadata": {
    "papermill": {
     "duration": 0.016007,
     "end_time": "2024-01-19T21:41:43.019914",
     "exception": false,
     "start_time": "2024-01-19T21:41:43.003907",
     "status": "completed"
    },
    "tags": []
   },
   "source": [
    "<b><span style=\"color: #5F5F5F; background-color: #F2F4F2; padding: 20px; font-size: 18px; border-left: 8px solid #A9A9A9\">Shape of the Dataset</span></b>"
   ]
  },
  {
   "cell_type": "code",
   "execution_count": 4,
   "id": "69b20817",
   "metadata": {
    "execution": {
     "iopub.execute_input": "2024-01-19T21:41:43.053484Z",
     "iopub.status.busy": "2024-01-19T21:41:43.053138Z",
     "iopub.status.idle": "2024-01-19T21:41:43.058818Z",
     "shell.execute_reply": "2024-01-19T21:41:43.057985Z"
    },
    "papermill": {
     "duration": 0.024747,
     "end_time": "2024-01-19T21:41:43.060778",
     "exception": false,
     "start_time": "2024-01-19T21:41:43.036031",
     "status": "completed"
    },
    "tags": []
   },
   "outputs": [
    {
     "data": {
      "text/plain": [
       "(42000, 785)"
      ]
     },
     "execution_count": 4,
     "metadata": {},
     "output_type": "execute_result"
    }
   ],
   "source": [
    "df.shape"
   ]
  },
  {
   "cell_type": "markdown",
   "id": "095201ef",
   "metadata": {
    "papermill": {
     "duration": 0.061857,
     "end_time": "2024-01-19T21:41:43.138879",
     "exception": false,
     "start_time": "2024-01-19T21:41:43.077022",
     "status": "completed"
    },
    "tags": []
   },
   "source": [
    "<b><span style=\"color: #5F5F5F; background-color: #F2F4F2; padding: 20px; font-size: 18px; border-left: 8px solid #A9A9A9\">Dataset information</span></b>"
   ]
  },
  {
   "cell_type": "code",
   "execution_count": 5,
   "id": "c59a0bf3",
   "metadata": {
    "execution": {
     "iopub.execute_input": "2024-01-19T21:41:43.172977Z",
     "iopub.status.busy": "2024-01-19T21:41:43.172286Z",
     "iopub.status.idle": "2024-01-19T21:41:43.222250Z",
     "shell.execute_reply": "2024-01-19T21:41:43.220855Z"
    },
    "papermill": {
     "duration": 0.069246,
     "end_time": "2024-01-19T21:41:43.224327",
     "exception": false,
     "start_time": "2024-01-19T21:41:43.155081",
     "status": "completed"
    },
    "tags": []
   },
   "outputs": [
    {
     "name": "stdout",
     "output_type": "stream",
     "text": [
      "<class 'pandas.core.frame.DataFrame'>\n",
      "RangeIndex: 42000 entries, 0 to 41999\n",
      "Columns: 785 entries, label to pixel783\n",
      "dtypes: int64(785)\n",
      "memory usage: 251.5 MB\n"
     ]
    }
   ],
   "source": [
    "df.info()"
   ]
  },
  {
   "cell_type": "markdown",
   "id": "00ca4585",
   "metadata": {
    "papermill": {
     "duration": 0.016288,
     "end_time": "2024-01-19T21:41:43.257172",
     "exception": false,
     "start_time": "2024-01-19T21:41:43.240884",
     "status": "completed"
    },
    "tags": []
   },
   "source": [
    "<b><span style=\"color: #5F5F5F; background-color: #F2F4F2; padding: 20px; font-size: 18px; border-left: 8px solid #A9A9A9\">Checking null values</span></b>"
   ]
  },
  {
   "cell_type": "code",
   "execution_count": 6,
   "id": "43cfb58f",
   "metadata": {
    "execution": {
     "iopub.execute_input": "2024-01-19T21:41:43.292921Z",
     "iopub.status.busy": "2024-01-19T21:41:43.292241Z",
     "iopub.status.idle": "2024-01-19T21:41:43.325998Z",
     "shell.execute_reply": "2024-01-19T21:41:43.325082Z"
    },
    "papermill": {
     "duration": 0.054193,
     "end_time": "2024-01-19T21:41:43.328002",
     "exception": false,
     "start_time": "2024-01-19T21:41:43.273809",
     "status": "completed"
    },
    "tags": []
   },
   "outputs": [
    {
     "data": {
      "text/plain": [
       "label       0\n",
       "pixel0      0\n",
       "pixel1      0\n",
       "pixel2      0\n",
       "pixel3      0\n",
       "           ..\n",
       "pixel779    0\n",
       "pixel780    0\n",
       "pixel781    0\n",
       "pixel782    0\n",
       "pixel783    0\n",
       "Length: 785, dtype: int64"
      ]
     },
     "execution_count": 6,
     "metadata": {},
     "output_type": "execute_result"
    }
   ],
   "source": [
    "df.isnull().sum()"
   ]
  },
  {
   "cell_type": "markdown",
   "id": "c18abd61",
   "metadata": {
    "papermill": {
     "duration": 0.016583,
     "end_time": "2024-01-19T21:41:43.361525",
     "exception": false,
     "start_time": "2024-01-19T21:41:43.344942",
     "status": "completed"
    },
    "tags": []
   },
   "source": [
    "<b><span style=\"color: #5F5F5F; background-color: #F2F4F2; padding: 20px; font-size: 18px; border-left: 8px solid #A9A9A9\">Checking duplicated values</span></b>"
   ]
  },
  {
   "cell_type": "code",
   "execution_count": 7,
   "id": "a67e0917",
   "metadata": {
    "execution": {
     "iopub.execute_input": "2024-01-19T21:41:43.396056Z",
     "iopub.status.busy": "2024-01-19T21:41:43.395715Z",
     "iopub.status.idle": "2024-01-19T21:41:43.799427Z",
     "shell.execute_reply": "2024-01-19T21:41:43.798371Z"
    },
    "papermill": {
     "duration": 0.423555,
     "end_time": "2024-01-19T21:41:43.801540",
     "exception": false,
     "start_time": "2024-01-19T21:41:43.377985",
     "status": "completed"
    },
    "tags": []
   },
   "outputs": [
    {
     "data": {
      "text/plain": [
       "0"
      ]
     },
     "execution_count": 7,
     "metadata": {},
     "output_type": "execute_result"
    }
   ],
   "source": [
    "df.duplicated().sum()"
   ]
  },
  {
   "cell_type": "markdown",
   "id": "f71adca1",
   "metadata": {
    "papermill": {
     "duration": 0.016647,
     "end_time": "2024-01-19T21:41:43.835152",
     "exception": false,
     "start_time": "2024-01-19T21:41:43.818505",
     "status": "completed"
    },
    "tags": []
   },
   "source": [
    "<b><span style=\"color: #5F5F5F; background-color: #F2F4F2; padding: 20px; font-size: 18px; border-left: 8px solid #A9A9A9\">Showing extra statistical measures</span></b>"
   ]
  },
  {
   "cell_type": "code",
   "execution_count": 8,
   "id": "6831f0a6",
   "metadata": {
    "execution": {
     "iopub.execute_input": "2024-01-19T21:41:43.869683Z",
     "iopub.status.busy": "2024-01-19T21:41:43.869310Z",
     "iopub.status.idle": "2024-01-19T21:41:45.622046Z",
     "shell.execute_reply": "2024-01-19T21:41:45.621185Z"
    },
    "papermill": {
     "duration": 1.772691,
     "end_time": "2024-01-19T21:41:45.624331",
     "exception": false,
     "start_time": "2024-01-19T21:41:43.851640",
     "status": "completed"
    },
    "tags": []
   },
   "outputs": [
    {
     "data": {
      "text/html": [
       "<div>\n",
       "<style scoped>\n",
       "    .dataframe tbody tr th:only-of-type {\n",
       "        vertical-align: middle;\n",
       "    }\n",
       "\n",
       "    .dataframe tbody tr th {\n",
       "        vertical-align: top;\n",
       "    }\n",
       "\n",
       "    .dataframe thead th {\n",
       "        text-align: right;\n",
       "    }\n",
       "</style>\n",
       "<table border=\"1\" class=\"dataframe\">\n",
       "  <thead>\n",
       "    <tr style=\"text-align: right;\">\n",
       "      <th></th>\n",
       "      <th>label</th>\n",
       "      <th>pixel0</th>\n",
       "      <th>pixel1</th>\n",
       "      <th>pixel2</th>\n",
       "      <th>pixel3</th>\n",
       "      <th>pixel4</th>\n",
       "      <th>pixel5</th>\n",
       "      <th>pixel6</th>\n",
       "      <th>pixel7</th>\n",
       "      <th>pixel8</th>\n",
       "      <th>...</th>\n",
       "      <th>pixel774</th>\n",
       "      <th>pixel775</th>\n",
       "      <th>pixel776</th>\n",
       "      <th>pixel777</th>\n",
       "      <th>pixel778</th>\n",
       "      <th>pixel779</th>\n",
       "      <th>pixel780</th>\n",
       "      <th>pixel781</th>\n",
       "      <th>pixel782</th>\n",
       "      <th>pixel783</th>\n",
       "    </tr>\n",
       "  </thead>\n",
       "  <tbody>\n",
       "    <tr>\n",
       "      <th>count</th>\n",
       "      <td>42000.000000</td>\n",
       "      <td>42000.0</td>\n",
       "      <td>42000.0</td>\n",
       "      <td>42000.0</td>\n",
       "      <td>42000.0</td>\n",
       "      <td>42000.0</td>\n",
       "      <td>42000.0</td>\n",
       "      <td>42000.0</td>\n",
       "      <td>42000.0</td>\n",
       "      <td>42000.0</td>\n",
       "      <td>...</td>\n",
       "      <td>42000.000000</td>\n",
       "      <td>42000.000000</td>\n",
       "      <td>42000.000000</td>\n",
       "      <td>42000.00000</td>\n",
       "      <td>42000.000000</td>\n",
       "      <td>42000.000000</td>\n",
       "      <td>42000.0</td>\n",
       "      <td>42000.0</td>\n",
       "      <td>42000.0</td>\n",
       "      <td>42000.0</td>\n",
       "    </tr>\n",
       "    <tr>\n",
       "      <th>mean</th>\n",
       "      <td>4.456643</td>\n",
       "      <td>0.0</td>\n",
       "      <td>0.0</td>\n",
       "      <td>0.0</td>\n",
       "      <td>0.0</td>\n",
       "      <td>0.0</td>\n",
       "      <td>0.0</td>\n",
       "      <td>0.0</td>\n",
       "      <td>0.0</td>\n",
       "      <td>0.0</td>\n",
       "      <td>...</td>\n",
       "      <td>0.219286</td>\n",
       "      <td>0.117095</td>\n",
       "      <td>0.059024</td>\n",
       "      <td>0.02019</td>\n",
       "      <td>0.017238</td>\n",
       "      <td>0.002857</td>\n",
       "      <td>0.0</td>\n",
       "      <td>0.0</td>\n",
       "      <td>0.0</td>\n",
       "      <td>0.0</td>\n",
       "    </tr>\n",
       "    <tr>\n",
       "      <th>std</th>\n",
       "      <td>2.887730</td>\n",
       "      <td>0.0</td>\n",
       "      <td>0.0</td>\n",
       "      <td>0.0</td>\n",
       "      <td>0.0</td>\n",
       "      <td>0.0</td>\n",
       "      <td>0.0</td>\n",
       "      <td>0.0</td>\n",
       "      <td>0.0</td>\n",
       "      <td>0.0</td>\n",
       "      <td>...</td>\n",
       "      <td>6.312890</td>\n",
       "      <td>4.633819</td>\n",
       "      <td>3.274488</td>\n",
       "      <td>1.75987</td>\n",
       "      <td>1.894498</td>\n",
       "      <td>0.414264</td>\n",
       "      <td>0.0</td>\n",
       "      <td>0.0</td>\n",
       "      <td>0.0</td>\n",
       "      <td>0.0</td>\n",
       "    </tr>\n",
       "    <tr>\n",
       "      <th>min</th>\n",
       "      <td>0.000000</td>\n",
       "      <td>0.0</td>\n",
       "      <td>0.0</td>\n",
       "      <td>0.0</td>\n",
       "      <td>0.0</td>\n",
       "      <td>0.0</td>\n",
       "      <td>0.0</td>\n",
       "      <td>0.0</td>\n",
       "      <td>0.0</td>\n",
       "      <td>0.0</td>\n",
       "      <td>...</td>\n",
       "      <td>0.000000</td>\n",
       "      <td>0.000000</td>\n",
       "      <td>0.000000</td>\n",
       "      <td>0.00000</td>\n",
       "      <td>0.000000</td>\n",
       "      <td>0.000000</td>\n",
       "      <td>0.0</td>\n",
       "      <td>0.0</td>\n",
       "      <td>0.0</td>\n",
       "      <td>0.0</td>\n",
       "    </tr>\n",
       "    <tr>\n",
       "      <th>25%</th>\n",
       "      <td>2.000000</td>\n",
       "      <td>0.0</td>\n",
       "      <td>0.0</td>\n",
       "      <td>0.0</td>\n",
       "      <td>0.0</td>\n",
       "      <td>0.0</td>\n",
       "      <td>0.0</td>\n",
       "      <td>0.0</td>\n",
       "      <td>0.0</td>\n",
       "      <td>0.0</td>\n",
       "      <td>...</td>\n",
       "      <td>0.000000</td>\n",
       "      <td>0.000000</td>\n",
       "      <td>0.000000</td>\n",
       "      <td>0.00000</td>\n",
       "      <td>0.000000</td>\n",
       "      <td>0.000000</td>\n",
       "      <td>0.0</td>\n",
       "      <td>0.0</td>\n",
       "      <td>0.0</td>\n",
       "      <td>0.0</td>\n",
       "    </tr>\n",
       "    <tr>\n",
       "      <th>50%</th>\n",
       "      <td>4.000000</td>\n",
       "      <td>0.0</td>\n",
       "      <td>0.0</td>\n",
       "      <td>0.0</td>\n",
       "      <td>0.0</td>\n",
       "      <td>0.0</td>\n",
       "      <td>0.0</td>\n",
       "      <td>0.0</td>\n",
       "      <td>0.0</td>\n",
       "      <td>0.0</td>\n",
       "      <td>...</td>\n",
       "      <td>0.000000</td>\n",
       "      <td>0.000000</td>\n",
       "      <td>0.000000</td>\n",
       "      <td>0.00000</td>\n",
       "      <td>0.000000</td>\n",
       "      <td>0.000000</td>\n",
       "      <td>0.0</td>\n",
       "      <td>0.0</td>\n",
       "      <td>0.0</td>\n",
       "      <td>0.0</td>\n",
       "    </tr>\n",
       "    <tr>\n",
       "      <th>75%</th>\n",
       "      <td>7.000000</td>\n",
       "      <td>0.0</td>\n",
       "      <td>0.0</td>\n",
       "      <td>0.0</td>\n",
       "      <td>0.0</td>\n",
       "      <td>0.0</td>\n",
       "      <td>0.0</td>\n",
       "      <td>0.0</td>\n",
       "      <td>0.0</td>\n",
       "      <td>0.0</td>\n",
       "      <td>...</td>\n",
       "      <td>0.000000</td>\n",
       "      <td>0.000000</td>\n",
       "      <td>0.000000</td>\n",
       "      <td>0.00000</td>\n",
       "      <td>0.000000</td>\n",
       "      <td>0.000000</td>\n",
       "      <td>0.0</td>\n",
       "      <td>0.0</td>\n",
       "      <td>0.0</td>\n",
       "      <td>0.0</td>\n",
       "    </tr>\n",
       "    <tr>\n",
       "      <th>max</th>\n",
       "      <td>9.000000</td>\n",
       "      <td>0.0</td>\n",
       "      <td>0.0</td>\n",
       "      <td>0.0</td>\n",
       "      <td>0.0</td>\n",
       "      <td>0.0</td>\n",
       "      <td>0.0</td>\n",
       "      <td>0.0</td>\n",
       "      <td>0.0</td>\n",
       "      <td>0.0</td>\n",
       "      <td>...</td>\n",
       "      <td>254.000000</td>\n",
       "      <td>254.000000</td>\n",
       "      <td>253.000000</td>\n",
       "      <td>253.00000</td>\n",
       "      <td>254.000000</td>\n",
       "      <td>62.000000</td>\n",
       "      <td>0.0</td>\n",
       "      <td>0.0</td>\n",
       "      <td>0.0</td>\n",
       "      <td>0.0</td>\n",
       "    </tr>\n",
       "  </tbody>\n",
       "</table>\n",
       "<p>8 rows × 785 columns</p>\n",
       "</div>"
      ],
      "text/plain": [
       "              label   pixel0   pixel1   pixel2   pixel3   pixel4   pixel5  \\\n",
       "count  42000.000000  42000.0  42000.0  42000.0  42000.0  42000.0  42000.0   \n",
       "mean       4.456643      0.0      0.0      0.0      0.0      0.0      0.0   \n",
       "std        2.887730      0.0      0.0      0.0      0.0      0.0      0.0   \n",
       "min        0.000000      0.0      0.0      0.0      0.0      0.0      0.0   \n",
       "25%        2.000000      0.0      0.0      0.0      0.0      0.0      0.0   \n",
       "50%        4.000000      0.0      0.0      0.0      0.0      0.0      0.0   \n",
       "75%        7.000000      0.0      0.0      0.0      0.0      0.0      0.0   \n",
       "max        9.000000      0.0      0.0      0.0      0.0      0.0      0.0   \n",
       "\n",
       "        pixel6   pixel7   pixel8  ...      pixel774      pixel775  \\\n",
       "count  42000.0  42000.0  42000.0  ...  42000.000000  42000.000000   \n",
       "mean       0.0      0.0      0.0  ...      0.219286      0.117095   \n",
       "std        0.0      0.0      0.0  ...      6.312890      4.633819   \n",
       "min        0.0      0.0      0.0  ...      0.000000      0.000000   \n",
       "25%        0.0      0.0      0.0  ...      0.000000      0.000000   \n",
       "50%        0.0      0.0      0.0  ...      0.000000      0.000000   \n",
       "75%        0.0      0.0      0.0  ...      0.000000      0.000000   \n",
       "max        0.0      0.0      0.0  ...    254.000000    254.000000   \n",
       "\n",
       "           pixel776     pixel777      pixel778      pixel779  pixel780  \\\n",
       "count  42000.000000  42000.00000  42000.000000  42000.000000   42000.0   \n",
       "mean       0.059024      0.02019      0.017238      0.002857       0.0   \n",
       "std        3.274488      1.75987      1.894498      0.414264       0.0   \n",
       "min        0.000000      0.00000      0.000000      0.000000       0.0   \n",
       "25%        0.000000      0.00000      0.000000      0.000000       0.0   \n",
       "50%        0.000000      0.00000      0.000000      0.000000       0.0   \n",
       "75%        0.000000      0.00000      0.000000      0.000000       0.0   \n",
       "max      253.000000    253.00000    254.000000     62.000000       0.0   \n",
       "\n",
       "       pixel781  pixel782  pixel783  \n",
       "count   42000.0   42000.0   42000.0  \n",
       "mean        0.0       0.0       0.0  \n",
       "std         0.0       0.0       0.0  \n",
       "min         0.0       0.0       0.0  \n",
       "25%         0.0       0.0       0.0  \n",
       "50%         0.0       0.0       0.0  \n",
       "75%         0.0       0.0       0.0  \n",
       "max         0.0       0.0       0.0  \n",
       "\n",
       "[8 rows x 785 columns]"
      ]
     },
     "execution_count": 8,
     "metadata": {},
     "output_type": "execute_result"
    }
   ],
   "source": [
    "df.describe()"
   ]
  },
  {
   "cell_type": "markdown",
   "id": "b90beb6b",
   "metadata": {
    "papermill": {
     "duration": 0.016784,
     "end_time": "2024-01-19T21:41:45.658970",
     "exception": false,
     "start_time": "2024-01-19T21:41:45.642186",
     "status": "completed"
    },
    "tags": []
   },
   "source": [
    "<div style=\"background-color: #AAD7D9; #padding: 20px; border-radius: 20px;\">\n",
    "    <p style=\"font-size: 40px; font-family: 'Verdana'; color: #3A405A; text-align: center;\">Data Visualizations</p>\n",
    "</div>"
   ]
  },
  {
   "cell_type": "markdown",
   "id": "cc610421",
   "metadata": {
    "papermill": {
     "duration": 0.01675,
     "end_time": "2024-01-19T21:41:45.692698",
     "exception": false,
     "start_time": "2024-01-19T21:41:45.675948",
     "status": "completed"
    },
    "tags": []
   },
   "source": [
    "<b><span style=\"color: #3C0753; background-color:#AAD7D9; padding: 20px; font-size: 18px; border-left: 8px solid #FF9800\">i) Heatmap</span></b>"
   ]
  },
  {
   "cell_type": "code",
   "execution_count": 9,
   "id": "02a7bd34",
   "metadata": {
    "execution": {
     "iopub.execute_input": "2024-01-19T21:41:45.728408Z",
     "iopub.status.busy": "2024-01-19T21:41:45.727547Z",
     "iopub.status.idle": "2024-01-19T21:42:46.072917Z",
     "shell.execute_reply": "2024-01-19T21:42:46.072026Z"
    },
    "papermill": {
     "duration": 60.367442,
     "end_time": "2024-01-19T21:42:46.076950",
     "exception": false,
     "start_time": "2024-01-19T21:41:45.709508",
     "status": "completed"
    },
    "tags": []
   },
   "outputs": [
    {
     "data": {
      "text/plain": [
       "<Axes: >"
      ]
     },
     "execution_count": 9,
     "metadata": {},
     "output_type": "execute_result"
    },
    {
     "data": {
      "image/png": "[encoded data removed]",
      "text/plain": [
       "<Figure size 640x480 with 2 Axes>"
      ]
     },
     "metadata": {},
     "output_type": "display_data"
    }
   ],
   "source": [
    "sn.heatmap(df.corr())"
   ]
  },
  {
   "cell_type": "markdown",
   "id": "edb9de18",
   "metadata": {
    "papermill": {
     "duration": 0.020311,
     "end_time": "2024-01-19T21:42:46.118147",
     "exception": false,
     "start_time": "2024-01-19T21:42:46.097836",
     "status": "completed"
    },
    "tags": []
   },
   "source": [
    "<b><span style=\"color: #3C0753; background-color:#AAD7D9; padding: 20px; font-size: 18px; border-left: 8px solid #FF9800\">ii) Countplot</span></b>"
   ]
  },
  {
   "cell_type": "code",
   "execution_count": 10,
   "id": "292de2df",
   "metadata": {
    "execution": {
     "iopub.execute_input": "2024-01-19T21:42:46.160504Z",
     "iopub.status.busy": "2024-01-19T21:42:46.160159Z",
     "iopub.status.idle": "2024-01-19T21:42:46.168042Z",
     "shell.execute_reply": "2024-01-19T21:42:46.167196Z"
    },
    "papermill": {
     "duration": 0.031567,
     "end_time": "2024-01-19T21:42:46.170004",
     "exception": false,
     "start_time": "2024-01-19T21:42:46.138437",
     "status": "completed"
    },
    "tags": []
   },
   "outputs": [
    {
     "data": {
      "text/plain": [
       "label\n",
       "1    4684\n",
       "7    4401\n",
       "3    4351\n",
       "9    4188\n",
       "2    4177\n",
       "6    4137\n",
       "0    4132\n",
       "4    4072\n",
       "8    4063\n",
       "5    3795\n",
       "Name: count, dtype: int64"
      ]
     },
     "execution_count": 10,
     "metadata": {},
     "output_type": "execute_result"
    }
   ],
   "source": [
    "df['label'].value_counts()"
   ]
  },
  {
   "cell_type": "code",
   "execution_count": 11,
   "id": "ffd90f79",
   "metadata": {
    "execution": {
     "iopub.execute_input": "2024-01-19T21:42:46.212159Z",
     "iopub.status.busy": "2024-01-19T21:42:46.211850Z",
     "iopub.status.idle": "2024-01-19T21:42:46.468999Z",
     "shell.execute_reply": "2024-01-19T21:42:46.468116Z"
    },
    "papermill": {
     "duration": 0.280811,
     "end_time": "2024-01-19T21:42:46.471211",
     "exception": false,
     "start_time": "2024-01-19T21:42:46.190400",
     "status": "completed"
    },
    "tags": []
   },
   "outputs": [
    {
     "data": {
      "text/plain": [
       "<Axes: xlabel='label', ylabel='count'>"
      ]
     },
     "execution_count": 11,
     "metadata": {},
     "output_type": "execute_result"
    },
    {
     "data": {
      "image/png": "[encoded data removed]",
      "text/plain": [
       "<Figure size 640x480 with 1 Axes>"
      ]
     },
     "metadata": {},
     "output_type": "display_data"
    }
   ],
   "source": [
    "sn.countplot(x=df['label'])"
   ]
  },
  {
   "cell_type": "markdown",
   "id": "be5014b9",
   "metadata": {
    "papermill": {
     "duration": 0.021973,
     "end_time": "2024-01-19T21:42:46.514724",
     "exception": false,
     "start_time": "2024-01-19T21:42:46.492751",
     "status": "completed"
    },
    "tags": []
   },
   "source": [
    "<div style=\"background-color: #E0AED0; #padding: 20px; border-radius: 20px;\">\n",
    "    <p style=\"font-size: 40px; font-family: 'Verdana'; color: #3A405A; text-align: center;\">Train Test Split</p>\n",
    "</div>"
   ]
  },
  {
   "cell_type": "code",
   "execution_count": 12,
   "id": "d9fd025d",
   "metadata": {
    "execution": {
     "iopub.execute_input": "2024-01-19T21:42:46.558522Z",
     "iopub.status.busy": "2024-01-19T21:42:46.557906Z",
     "iopub.status.idle": "2024-01-19T21:42:46.637677Z",
     "shell.execute_reply": "2024-01-19T21:42:46.636463Z"
    },
    "papermill": {
     "duration": 0.104487,
     "end_time": "2024-01-19T21:42:46.640219",
     "exception": false,
     "start_time": "2024-01-19T21:42:46.535732",
     "status": "completed"
    },
    "tags": []
   },
   "outputs": [],
   "source": [
    "X=df.drop('label', axis=1)\n",
    "Y=df['label']"
   ]
  },
  {
   "cell_type": "code",
   "execution_count": 13,
   "id": "31f4933b",
   "metadata": {
    "execution": {
     "iopub.execute_input": "2024-01-19T21:42:46.684193Z",
     "iopub.status.busy": "2024-01-19T21:42:46.683890Z",
     "iopub.status.idle": "2024-01-19T21:42:46.696086Z",
     "shell.execute_reply": "2024-01-19T21:42:46.695104Z"
    },
    "papermill": {
     "duration": 0.036511,
     "end_time": "2024-01-19T21:42:46.698248",
     "exception": false,
     "start_time": "2024-01-19T21:42:46.661737",
     "status": "completed"
    },
    "tags": []
   },
   "outputs": [
    {
     "name": "stdout",
     "output_type": "stream",
     "text": [
      "       pixel0  pixel1  pixel2  pixel3  pixel4  pixel5  pixel6  pixel7  pixel8  \\\n",
      "0           0       0       0       0       0       0       0       0       0   \n",
      "1           0       0       0       0       0       0       0       0       0   \n",
      "2           0       0       0       0       0       0       0       0       0   \n",
      "3           0       0       0       0       0       0       0       0       0   \n",
      "4           0       0       0       0       0       0       0       0       0   \n",
      "...       ...     ...     ...     ...     ...     ...     ...     ...     ...   \n",
      "41995       0       0       0       0       0       0       0       0       0   \n",
      "41996       0       0       0       0       0       0       0       0       0   \n",
      "41997       0       0       0       0       0       0       0       0       0   \n",
      "41998       0       0       0       0       0       0       0       0       0   \n",
      "41999       0       0       0       0       0       0       0       0       0   \n",
      "\n",
      "       pixel9  ...  pixel774  pixel775  pixel776  pixel777  pixel778  \\\n",
      "0           0  ...         0         0         0         0         0   \n",
      "1           0  ...         0         0         0         0         0   \n",
      "2           0  ...         0         0         0         0         0   \n",
      "3           0  ...         0         0         0         0         0   \n",
      "4           0  ...         0         0         0         0         0   \n",
      "...       ...  ...       ...       ...       ...       ...       ...   \n",
      "41995       0  ...         0         0         0         0         0   \n",
      "41996       0  ...         0         0         0         0         0   \n",
      "41997       0  ...         0         0         0         0         0   \n",
      "41998       0  ...         0         0         0         0         0   \n",
      "41999       0  ...         0         0         0         0         0   \n",
      "\n",
      "       pixel779  pixel780  pixel781  pixel782  pixel783  \n",
      "0             0         0         0         0         0  \n",
      "1             0         0         0         0         0  \n",
      "2             0         0         0         0         0  \n",
      "3             0         0         0         0         0  \n",
      "4             0         0         0         0         0  \n",
      "...         ...       ...       ...       ...       ...  \n",
      "41995         0         0         0         0         0  \n",
      "41996         0         0         0         0         0  \n",
      "41997         0         0         0         0         0  \n",
      "41998         0         0         0         0         0  \n",
      "41999         0         0         0         0         0  \n",
      "\n",
      "[42000 rows x 784 columns]\n"
     ]
    }
   ],
   "source": [
    "print(X)"
   ]
  },
  {
   "cell_type": "code",
   "execution_count": 14,
   "id": "66cdd640",
   "metadata": {
    "execution": {
     "iopub.execute_input": "2024-01-19T21:42:46.742570Z",
     "iopub.status.busy": "2024-01-19T21:42:46.742266Z",
     "iopub.status.idle": "2024-01-19T21:42:46.747482Z",
     "shell.execute_reply": "2024-01-19T21:42:46.746650Z"
    },
    "papermill": {
     "duration": 0.0305,
     "end_time": "2024-01-19T21:42:46.749930",
     "exception": false,
     "start_time": "2024-01-19T21:42:46.719430",
     "status": "completed"
    },
    "tags": []
   },
   "outputs": [
    {
     "name": "stdout",
     "output_type": "stream",
     "text": [
      "0        1\n",
      "1        0\n",
      "2        1\n",
      "3        4\n",
      "4        0\n",
      "        ..\n",
      "41995    0\n",
      "41996    1\n",
      "41997    7\n",
      "41998    6\n",
      "41999    9\n",
      "Name: label, Length: 42000, dtype: int64\n"
     ]
    }
   ],
   "source": [
    "print(Y)"
   ]
  },
  {
   "cell_type": "code",
   "execution_count": 15,
   "id": "b0d15d5c",
   "metadata": {
    "execution": {
     "iopub.execute_input": "2024-01-19T21:42:46.794231Z",
     "iopub.status.busy": "2024-01-19T21:42:46.793429Z",
     "iopub.status.idle": "2024-01-19T21:42:47.005428Z",
     "shell.execute_reply": "2024-01-19T21:42:47.004595Z"
    },
    "papermill": {
     "duration": 0.236775,
     "end_time": "2024-01-19T21:42:47.007860",
     "exception": false,
     "start_time": "2024-01-19T21:42:46.771085",
     "status": "completed"
    },
    "tags": []
   },
   "outputs": [],
   "source": [
    "X_train,X_test,Y_train,Y_test=train_test_split(X,Y, test_size=0.2, random_state=2)"
   ]
  },
  {
   "cell_type": "code",
   "execution_count": 16,
   "id": "b75346b2",
   "metadata": {
    "execution": {
     "iopub.execute_input": "2024-01-19T21:42:47.052629Z",
     "iopub.status.busy": "2024-01-19T21:42:47.051957Z",
     "iopub.status.idle": "2024-01-19T21:42:47.056771Z",
     "shell.execute_reply": "2024-01-19T21:42:47.055995Z"
    },
    "papermill": {
     "duration": 0.029074,
     "end_time": "2024-01-19T21:42:47.058797",
     "exception": false,
     "start_time": "2024-01-19T21:42:47.029723",
     "status": "completed"
    },
    "tags": []
   },
   "outputs": [
    {
     "name": "stdout",
     "output_type": "stream",
     "text": [
      "(42000, 784) (33600, 784) (8400, 784)\n"
     ]
    }
   ],
   "source": [
    "print(X.shape, X_train.shape, X_test.shape)"
   ]
  },
  {
   "cell_type": "markdown",
   "id": "50b91939",
   "metadata": {
    "papermill": {
     "duration": 0.021009,
     "end_time": "2024-01-19T21:42:47.101086",
     "exception": false,
     "start_time": "2024-01-19T21:42:47.080077",
     "status": "completed"
    },
    "tags": []
   },
   "source": [
    "<div style=\"background-color: #F6B17A; #padding: 20px; border-radius: 20px;\">\n",
    "    <p style=\"font-size: 40px; font-family: 'Verdana'; color: #3A405A; text-align: center;\">Model Training</p>\n",
    "</div>"
   ]
  },
  {
   "cell_type": "markdown",
   "id": "f6149248",
   "metadata": {
    "papermill": {
     "duration": 0.020951,
     "end_time": "2024-01-19T21:42:47.143242",
     "exception": false,
     "start_time": "2024-01-19T21:42:47.122291",
     "status": "completed"
    },
    "tags": []
   },
   "source": [
    "<b><span style=\"color: #3C0753; background-color:#A1EEBD; padding: 20px; font-size: 18px; border-left: 8px solid F037A5\">i) Logistic Regression</span></b>"
   ]
  },
  {
   "cell_type": "code",
   "execution_count": 17,
   "id": "08640d09",
   "metadata": {
    "execution": {
     "iopub.execute_input": "2024-01-19T21:42:47.187504Z",
     "iopub.status.busy": "2024-01-19T21:42:47.186811Z",
     "iopub.status.idle": "2024-01-19T21:42:57.689006Z",
     "shell.execute_reply": "2024-01-19T21:42:57.687844Z"
    },
    "papermill": {
     "duration": 10.530139,
     "end_time": "2024-01-19T21:42:57.694495",
     "exception": false,
     "start_time": "2024-01-19T21:42:47.164356",
     "status": "completed"
    },
    "tags": []
   },
   "outputs": [
    {
     "name": "stderr",
     "output_type": "stream",
     "text": [
      "/opt/conda/lib/python3.10/site-packages/sklearn/linear_model/_logistic.py:458: ConvergenceWarning: lbfgs failed to converge (status=1):\n",
      "STOP: TOTAL NO. of ITERATIONS REACHED LIMIT.\n",
      "\n",
      "Increase the number of iterations (max_iter) or scale the data as shown in:\n",
      "    https://scikit-learn.org/stable/modules/preprocessing.html\n",
      "Please also refer to the documentation for alternative solver options:\n",
      "    https://scikit-learn.org/stable/modules/linear_model.html#logistic-regression\n",
      "  n_iter_i = _check_optimize_result(\n"
     ]
    },
    {
     "data": {
      "text/html": [
       "<style>#sk-container-id-1 {color: black;background-color: white;}#sk-container-id-1 pre{padding: 0;}#sk-container-id-1 div.sk-toggleable {background-color: white;}#sk-container-id-1 label.sk-toggleable__label {cursor: pointer;display: block;width: 100%;margin-bottom: 0;padding: 0.3em;box-sizing: border-box;text-align: center;}#sk-container-id-1 label.sk-toggleable__label-arrow:before {content: \"▸\";float: left;margin-right: 0.25em;color: #696969;}#sk-container-id-1 label.sk-toggleable__label-arrow:hover:before {color: black;}#sk-container-id-1 div.sk-estimator:hover label.sk-toggleable__label-arrow:before {color: black;}#sk-container-id-1 div.sk-toggleable__content {max-height: 0;max-width: 0;overflow: hidden;text-align: left;background-color: #f0f8ff;}#sk-container-id-1 div.sk-toggleable__content pre {margin: 0.2em;color: black;border-radius: 0.25em;background-color: #f0f8ff;}#sk-container-id-1 input.sk-toggleable__control:checked~div.sk-toggleable__content {max-height: 200px;max-width: 100%;overflow: auto;}#sk-container-id-1 input.sk-toggleable__control:checked~label.sk-toggleable__label-arrow:before {content: \"▾\";}#sk-container-id-1 div.sk-estimator input.sk-toggleable__control:checked~label.sk-toggleable__label {background-color: #d4ebff;}#sk-container-id-1 div.sk-label input.sk-toggleable__control:checked~label.sk-toggleable__label {background-color: #d4ebff;}#sk-container-id-1 input.sk-hidden--visually {border: 0;clip: rect(1px 1px 1px 1px);clip: rect(1px, 1px, 1px, 1px);height: 1px;margin: -1px;overflow: hidden;padding: 0;position: absolute;width: 1px;}#sk-container-id-1 div.sk-estimator {font-family: monospace;background-color: #f0f8ff;border: 1px dotted black;border-radius: 0.25em;box-sizing: border-box;margin-bottom: 0.5em;}#sk-container-id-1 div.sk-estimator:hover {background-color: #d4ebff;}#sk-container-id-1 div.sk-parallel-item::after {content: \"\";width: 100%;border-bottom: 1px solid gray;flex-grow: 1;}#sk-container-id-1 div.sk-label:hover label.sk-toggleable__label {background-color: #d4ebff;}#sk-container-id-1 div.sk-serial::before {content: \"\";position: absolute;border-left: 1px solid gray;box-sizing: border-box;top: 0;bottom: 0;left: 50%;z-index: 0;}#sk-container-id-1 div.sk-serial {display: flex;flex-direction: column;align-items: center;background-color: white;padding-right: 0.2em;padding-left: 0.2em;position: relative;}#sk-container-id-1 div.sk-item {position: relative;z-index: 1;}#sk-container-id-1 div.sk-parallel {display: flex;align-items: stretch;justify-content: center;background-color: white;position: relative;}#sk-container-id-1 div.sk-item::before, #sk-container-id-1 div.sk-parallel-item::before {content: \"\";position: absolute;border-left: 1px solid gray;box-sizing: border-box;top: 0;bottom: 0;left: 50%;z-index: -1;}#sk-container-id-1 div.sk-parallel-item {display: flex;flex-direction: column;z-index: 1;position: relative;background-color: white;}#sk-container-id-1 div.sk-parallel-item:first-child::after {align-self: flex-end;width: 50%;}#sk-container-id-1 div.sk-parallel-item:last-child::after {align-self: flex-start;width: 50%;}#sk-container-id-1 div.sk-parallel-item:only-child::after {width: 0;}#sk-container-id-1 div.sk-dashed-wrapped {border: 1px dashed gray;margin: 0 0.4em 0.5em 0.4em;box-sizing: border-box;padding-bottom: 0.4em;background-color: white;}#sk-container-id-1 div.sk-label label {font-family: monospace;font-weight: bold;display: inline-block;line-height: 1.2em;}#sk-container-id-1 div.sk-label-container {text-align: center;}#sk-container-id-1 div.sk-container {/* jupyter's `normalize.less` sets `[hidden] { display: none; }` but bootstrap.min.css set `[hidden] { display: none !important; }` so we also need the `!important` here to be able to override the default hidden behavior on the sphinx rendered scikit-learn.org. See: https://github.com/scikit-learn/scikit-learn/issues/21755 */display: inline-block !important;position: relative;}#sk-container-id-1 div.sk-text-repr-fallback {display: none;}</style><div id=\"sk-container-id-1\" class=\"sk-top-container\"><div class=\"sk-text-repr-fallback\"><pre>LogisticRegression()</pre><b>In a Jupyter environment, please rerun this cell to show the HTML representation or trust the notebook. <br />On GitHub, the HTML representation is unable to render, please try loading this page with nbviewer.org.</b></div><div class=\"sk-container\" hidden><div class=\"sk-item\"><div class=\"sk-estimator sk-toggleable\"><input class=\"sk-toggleable__control sk-hidden--visually\" id=\"sk-estimator-id-1\" type=\"checkbox\" checked><label for=\"sk-estimator-id-1\" class=\"sk-toggleable__label sk-toggleable__label-arrow\">LogisticRegression</label><div class=\"sk-toggleable__content\"><pre>LogisticRegression()</pre></div></div></div></div></div>"
      ],
      "text/plain": [
       "LogisticRegression()"
      ]
     },
     "execution_count": 17,
     "metadata": {},
     "output_type": "execute_result"
    }
   ],
   "source": [
    "lr=LogisticRegression()\n",
    "lr.fit(X_train,Y_train)"
   ]
  },
  {
   "cell_type": "markdown",
   "id": "534856f6",
   "metadata": {
    "papermill": {
     "duration": 0.047157,
     "end_time": "2024-01-19T21:42:57.789629",
     "exception": false,
     "start_time": "2024-01-19T21:42:57.742472",
     "status": "completed"
    },
    "tags": []
   },
   "source": [
    "#### a) Accuracies"
   ]
  },
  {
   "cell_type": "code",
   "execution_count": 18,
   "id": "fe421b90",
   "metadata": {
    "execution": {
     "iopub.execute_input": "2024-01-19T21:42:57.844375Z",
     "iopub.status.busy": "2024-01-19T21:42:57.843718Z",
     "iopub.status.idle": "2024-01-19T21:42:58.101873Z",
     "shell.execute_reply": "2024-01-19T21:42:58.100889Z"
    },
    "papermill": {
     "duration": 0.284748,
     "end_time": "2024-01-19T21:42:58.105419",
     "exception": false,
     "start_time": "2024-01-19T21:42:57.820671",
     "status": "completed"
    },
    "tags": []
   },
   "outputs": [
    {
     "name": "stdout",
     "output_type": "stream",
     "text": [
      "Training Accuracy:  0.940327380952381\n",
      "Testing Accuracy:  0.9145238095238095\n"
     ]
    }
   ],
   "source": [
    "print('Training Accuracy: ',lr.score(X_train,Y_train))\n",
    "print('Testing Accuracy: ',lr.score(X_test,Y_test))"
   ]
  },
  {
   "cell_type": "markdown",
   "id": "f617d70c",
   "metadata": {
    "papermill": {
     "duration": 0.048201,
     "end_time": "2024-01-19T21:42:58.201409",
     "exception": false,
     "start_time": "2024-01-19T21:42:58.153208",
     "status": "completed"
    },
    "tags": []
   },
   "source": [
    "#### b) Confusion Matrix"
   ]
  },
  {
   "cell_type": "code",
   "execution_count": 19,
   "id": "2e76bd88",
   "metadata": {
    "execution": {
     "iopub.execute_input": "2024-01-19T21:42:58.261817Z",
     "iopub.status.busy": "2024-01-19T21:42:58.261170Z",
     "iopub.status.idle": "2024-01-19T21:42:58.339834Z",
     "shell.execute_reply": "2024-01-19T21:42:58.338926Z"
    },
    "papermill": {
     "duration": 0.103648,
     "end_time": "2024-01-19T21:42:58.341786",
     "exception": false,
     "start_time": "2024-01-19T21:42:58.238138",
     "status": "completed"
    },
    "tags": []
   },
   "outputs": [
    {
     "data": {
      "text/html": [
       "<div>\n",
       "<style scoped>\n",
       "    .dataframe tbody tr th:only-of-type {\n",
       "        vertical-align: middle;\n",
       "    }\n",
       "\n",
       "    .dataframe tbody tr th {\n",
       "        vertical-align: top;\n",
       "    }\n",
       "\n",
       "    .dataframe thead th {\n",
       "        text-align: right;\n",
       "    }\n",
       "</style>\n",
       "<table border=\"1\" class=\"dataframe\">\n",
       "  <thead>\n",
       "    <tr style=\"text-align: right;\">\n",
       "      <th></th>\n",
       "      <th>0</th>\n",
       "      <th>1</th>\n",
       "      <th>2</th>\n",
       "      <th>3</th>\n",
       "      <th>4</th>\n",
       "      <th>5</th>\n",
       "      <th>6</th>\n",
       "      <th>7</th>\n",
       "      <th>8</th>\n",
       "      <th>9</th>\n",
       "    </tr>\n",
       "  </thead>\n",
       "  <tbody>\n",
       "    <tr>\n",
       "      <th>0</th>\n",
       "      <td>791</td>\n",
       "      <td>0</td>\n",
       "      <td>1</td>\n",
       "      <td>0</td>\n",
       "      <td>1</td>\n",
       "      <td>9</td>\n",
       "      <td>11</td>\n",
       "      <td>1</td>\n",
       "      <td>6</td>\n",
       "      <td>1</td>\n",
       "    </tr>\n",
       "    <tr>\n",
       "      <th>1</th>\n",
       "      <td>0</td>\n",
       "      <td>938</td>\n",
       "      <td>2</td>\n",
       "      <td>4</td>\n",
       "      <td>0</td>\n",
       "      <td>3</td>\n",
       "      <td>0</td>\n",
       "      <td>3</td>\n",
       "      <td>12</td>\n",
       "      <td>0</td>\n",
       "    </tr>\n",
       "    <tr>\n",
       "      <th>2</th>\n",
       "      <td>2</td>\n",
       "      <td>9</td>\n",
       "      <td>745</td>\n",
       "      <td>16</td>\n",
       "      <td>9</td>\n",
       "      <td>4</td>\n",
       "      <td>13</td>\n",
       "      <td>13</td>\n",
       "      <td>15</td>\n",
       "      <td>3</td>\n",
       "    </tr>\n",
       "    <tr>\n",
       "      <th>3</th>\n",
       "      <td>1</td>\n",
       "      <td>4</td>\n",
       "      <td>19</td>\n",
       "      <td>763</td>\n",
       "      <td>0</td>\n",
       "      <td>36</td>\n",
       "      <td>5</td>\n",
       "      <td>5</td>\n",
       "      <td>20</td>\n",
       "      <td>11</td>\n",
       "    </tr>\n",
       "    <tr>\n",
       "      <th>4</th>\n",
       "      <td>2</td>\n",
       "      <td>5</td>\n",
       "      <td>4</td>\n",
       "      <td>0</td>\n",
       "      <td>804</td>\n",
       "      <td>1</td>\n",
       "      <td>7</td>\n",
       "      <td>3</td>\n",
       "      <td>9</td>\n",
       "      <td>21</td>\n",
       "    </tr>\n",
       "    <tr>\n",
       "      <th>5</th>\n",
       "      <td>9</td>\n",
       "      <td>3</td>\n",
       "      <td>4</td>\n",
       "      <td>23</td>\n",
       "      <td>10</td>\n",
       "      <td>610</td>\n",
       "      <td>15</td>\n",
       "      <td>10</td>\n",
       "      <td>34</td>\n",
       "      <td>11</td>\n",
       "    </tr>\n",
       "    <tr>\n",
       "      <th>6</th>\n",
       "      <td>12</td>\n",
       "      <td>4</td>\n",
       "      <td>12</td>\n",
       "      <td>1</td>\n",
       "      <td>7</td>\n",
       "      <td>8</td>\n",
       "      <td>789</td>\n",
       "      <td>0</td>\n",
       "      <td>5</td>\n",
       "      <td>1</td>\n",
       "    </tr>\n",
       "    <tr>\n",
       "      <th>7</th>\n",
       "      <td>3</td>\n",
       "      <td>2</td>\n",
       "      <td>13</td>\n",
       "      <td>6</td>\n",
       "      <td>4</td>\n",
       "      <td>2</td>\n",
       "      <td>0</td>\n",
       "      <td>812</td>\n",
       "      <td>2</td>\n",
       "      <td>29</td>\n",
       "    </tr>\n",
       "    <tr>\n",
       "      <th>8</th>\n",
       "      <td>11</td>\n",
       "      <td>12</td>\n",
       "      <td>13</td>\n",
       "      <td>18</td>\n",
       "      <td>1</td>\n",
       "      <td>21</td>\n",
       "      <td>6</td>\n",
       "      <td>6</td>\n",
       "      <td>694</td>\n",
       "      <td>11</td>\n",
       "    </tr>\n",
       "    <tr>\n",
       "      <th>9</th>\n",
       "      <td>3</td>\n",
       "      <td>6</td>\n",
       "      <td>2</td>\n",
       "      <td>14</td>\n",
       "      <td>25</td>\n",
       "      <td>4</td>\n",
       "      <td>0</td>\n",
       "      <td>37</td>\n",
       "      <td>7</td>\n",
       "      <td>736</td>\n",
       "    </tr>\n",
       "  </tbody>\n",
       "</table>\n",
       "</div>"
      ],
      "text/plain": [
       "     0    1    2    3    4    5    6    7    8    9\n",
       "0  791    0    1    0    1    9   11    1    6    1\n",
       "1    0  938    2    4    0    3    0    3   12    0\n",
       "2    2    9  745   16    9    4   13   13   15    3\n",
       "3    1    4   19  763    0   36    5    5   20   11\n",
       "4    2    5    4    0  804    1    7    3    9   21\n",
       "5    9    3    4   23   10  610   15   10   34   11\n",
       "6   12    4   12    1    7    8  789    0    5    1\n",
       "7    3    2   13    6    4    2    0  812    2   29\n",
       "8   11   12   13   18    1   21    6    6  694   11\n",
       "9    3    6    2   14   25    4    0   37    7  736"
      ]
     },
     "execution_count": 19,
     "metadata": {},
     "output_type": "execute_result"
    }
   ],
   "source": [
    "y_pred=lr.predict(X_test)\n",
    "\n",
    "pd.DataFrame(confusion_matrix(Y_test,y_pred),columns=list(range(0,10)))"
   ]
  },
  {
   "cell_type": "markdown",
   "id": "0048965d",
   "metadata": {
    "papermill": {
     "duration": 0.042533,
     "end_time": "2024-01-19T21:42:58.407069",
     "exception": false,
     "start_time": "2024-01-19T21:42:58.364536",
     "status": "completed"
    },
    "tags": []
   },
   "source": [
    "#### c) Classification Report"
   ]
  },
  {
   "cell_type": "code",
   "execution_count": 20,
   "id": "d8d49654",
   "metadata": {
    "execution": {
     "iopub.execute_input": "2024-01-19T21:42:58.474359Z",
     "iopub.status.busy": "2024-01-19T21:42:58.474032Z",
     "iopub.status.idle": "2024-01-19T21:42:58.501431Z",
     "shell.execute_reply": "2024-01-19T21:42:58.500398Z"
    },
    "papermill": {
     "duration": 0.053184,
     "end_time": "2024-01-19T21:42:58.503505",
     "exception": false,
     "start_time": "2024-01-19T21:42:58.450321",
     "status": "completed"
    },
    "tags": []
   },
   "outputs": [
    {
     "name": "stdout",
     "output_type": "stream",
     "text": [
      "              precision    recall  f1-score   support\n",
      "\n",
      "           0       0.95      0.96      0.96       821\n",
      "           1       0.95      0.98      0.96       962\n",
      "           2       0.91      0.90      0.91       829\n",
      "           3       0.90      0.88      0.89       864\n",
      "           4       0.93      0.94      0.94       856\n",
      "           5       0.87      0.84      0.85       729\n",
      "           6       0.93      0.94      0.94       839\n",
      "           7       0.91      0.93      0.92       873\n",
      "           8       0.86      0.88      0.87       793\n",
      "           9       0.89      0.88      0.89       834\n",
      "\n",
      "    accuracy                           0.91      8400\n",
      "   macro avg       0.91      0.91      0.91      8400\n",
      "weighted avg       0.91      0.91      0.91      8400\n",
      "\n"
     ]
    }
   ],
   "source": [
    "print(classification_report(Y_test, y_pred))"
   ]
  },
  {
   "cell_type": "markdown",
   "id": "f3087171",
   "metadata": {
    "papermill": {
     "duration": 0.022112,
     "end_time": "2024-01-19T21:42:58.548394",
     "exception": false,
     "start_time": "2024-01-19T21:42:58.526282",
     "status": "completed"
    },
    "tags": []
   },
   "source": [
    "<b><span style=\"color: #3C0753; background-color:#A1EEBD; padding: 20px; font-size: 18px; border-left: 8px solid F037A5\">ii) Random Forest</span></b>"
   ]
  },
  {
   "cell_type": "code",
   "execution_count": 21,
   "id": "e5d10288",
   "metadata": {
    "execution": {
     "iopub.execute_input": "2024-01-19T21:42:58.595335Z",
     "iopub.status.busy": "2024-01-19T21:42:58.594985Z",
     "iopub.status.idle": "2024-01-19T21:43:21.019539Z",
     "shell.execute_reply": "2024-01-19T21:43:21.018650Z"
    },
    "papermill": {
     "duration": 22.449955,
     "end_time": "2024-01-19T21:43:21.021580",
     "exception": false,
     "start_time": "2024-01-19T21:42:58.571625",
     "status": "completed"
    },
    "tags": []
   },
   "outputs": [
    {
     "data": {
      "text/html": [
       "<style>#sk-container-id-2 {color: black;background-color: white;}#sk-container-id-2 pre{padding: 0;}#sk-container-id-2 div.sk-toggleable {background-color: white;}#sk-container-id-2 label.sk-toggleable__label {cursor: pointer;display: block;width: 100%;margin-bottom: 0;padding: 0.3em;box-sizing: border-box;text-align: center;}#sk-container-id-2 label.sk-toggleable__label-arrow:before {content: \"▸\";float: left;margin-right: 0.25em;color: #696969;}#sk-container-id-2 label.sk-toggleable__label-arrow:hover:before {color: black;}#sk-container-id-2 div.sk-estimator:hover label.sk-toggleable__label-arrow:before {color: black;}#sk-container-id-2 div.sk-toggleable__content {max-height: 0;max-width: 0;overflow: hidden;text-align: left;background-color: #f0f8ff;}#sk-container-id-2 div.sk-toggleable__content pre {margin: 0.2em;color: black;border-radius: 0.25em;background-color: #f0f8ff;}#sk-container-id-2 input.sk-toggleable__control:checked~div.sk-toggleable__content {max-height: 200px;max-width: 100%;overflow: auto;}#sk-container-id-2 input.sk-toggleable__control:checked~label.sk-toggleable__label-arrow:before {content: \"▾\";}#sk-container-id-2 div.sk-estimator input.sk-toggleable__control:checked~label.sk-toggleable__label {background-color: #d4ebff;}#sk-container-id-2 div.sk-label input.sk-toggleable__control:checked~label.sk-toggleable__label {background-color: #d4ebff;}#sk-container-id-2 input.sk-hidden--visually {border: 0;clip: rect(1px 1px 1px 1px);clip: rect(1px, 1px, 1px, 1px);height: 1px;margin: -1px;overflow: hidden;padding: 0;position: absolute;width: 1px;}#sk-container-id-2 div.sk-estimator {font-family: monospace;background-color: #f0f8ff;border: 1px dotted black;border-radius: 0.25em;box-sizing: border-box;margin-bottom: 0.5em;}#sk-container-id-2 div.sk-estimator:hover {background-color: #d4ebff;}#sk-container-id-2 div.sk-parallel-item::after {content: \"\";width: 100%;border-bottom: 1px solid gray;flex-grow: 1;}#sk-container-id-2 div.sk-label:hover label.sk-toggleable__label {background-color: #d4ebff;}#sk-container-id-2 div.sk-serial::before {content: \"\";position: absolute;border-left: 1px solid gray;box-sizing: border-box;top: 0;bottom: 0;left: 50%;z-index: 0;}#sk-container-id-2 div.sk-serial {display: flex;flex-direction: column;align-items: center;background-color: white;padding-right: 0.2em;padding-left: 0.2em;position: relative;}#sk-container-id-2 div.sk-item {position: relative;z-index: 1;}#sk-container-id-2 div.sk-parallel {display: flex;align-items: stretch;justify-content: center;background-color: white;position: relative;}#sk-container-id-2 div.sk-item::before, #sk-container-id-2 div.sk-parallel-item::before {content: \"\";position: absolute;border-left: 1px solid gray;box-sizing: border-box;top: 0;bottom: 0;left: 50%;z-index: -1;}#sk-container-id-2 div.sk-parallel-item {display: flex;flex-direction: column;z-index: 1;position: relative;background-color: white;}#sk-container-id-2 div.sk-parallel-item:first-child::after {align-self: flex-end;width: 50%;}#sk-container-id-2 div.sk-parallel-item:last-child::after {align-self: flex-start;width: 50%;}#sk-container-id-2 div.sk-parallel-item:only-child::after {width: 0;}#sk-container-id-2 div.sk-dashed-wrapped {border: 1px dashed gray;margin: 0 0.4em 0.5em 0.4em;box-sizing: border-box;padding-bottom: 0.4em;background-color: white;}#sk-container-id-2 div.sk-label label {font-family: monospace;font-weight: bold;display: inline-block;line-height: 1.2em;}#sk-container-id-2 div.sk-label-container {text-align: center;}#sk-container-id-2 div.sk-container {/* jupyter's `normalize.less` sets `[hidden] { display: none; }` but bootstrap.min.css set `[hidden] { display: none !important; }` so we also need the `!important` here to be able to override the default hidden behavior on the sphinx rendered scikit-learn.org. See: https://github.com/scikit-learn/scikit-learn/issues/21755 */display: inline-block !important;position: relative;}#sk-container-id-2 div.sk-text-repr-fallback {display: none;}</style><div id=\"sk-container-id-2\" class=\"sk-top-container\"><div class=\"sk-text-repr-fallback\"><pre>RandomForestClassifier()</pre><b>In a Jupyter environment, please rerun this cell to show the HTML representation or trust the notebook. <br />On GitHub, the HTML representation is unable to render, please try loading this page with nbviewer.org.</b></div><div class=\"sk-container\" hidden><div class=\"sk-item\"><div class=\"sk-estimator sk-toggleable\"><input class=\"sk-toggleable__control sk-hidden--visually\" id=\"sk-estimator-id-2\" type=\"checkbox\" checked><label for=\"sk-estimator-id-2\" class=\"sk-toggleable__label sk-toggleable__label-arrow\">RandomForestClassifier</label><div class=\"sk-toggleable__content\"><pre>RandomForestClassifier()</pre></div></div></div></div></div>"
      ],
      "text/plain": [
       "RandomForestClassifier()"
      ]
     },
     "execution_count": 21,
     "metadata": {},
     "output_type": "execute_result"
    }
   ],
   "source": [
    "rf=RandomForestClassifier()\n",
    "rf.fit(X_train,Y_train)"
   ]
  },
  {
   "cell_type": "markdown",
   "id": "9ae4c93e",
   "metadata": {
    "papermill": {
     "duration": 0.022297,
     "end_time": "2024-01-19T21:43:21.066998",
     "exception": false,
     "start_time": "2024-01-19T21:43:21.044701",
     "status": "completed"
    },
    "tags": []
   },
   "source": [
    "#### a) Accuracies"
   ]
  },
  {
   "cell_type": "code",
   "execution_count": 22,
   "id": "803d11be",
   "metadata": {
    "execution": {
     "iopub.execute_input": "2024-01-19T21:43:21.113334Z",
     "iopub.status.busy": "2024-01-19T21:43:21.113013Z",
     "iopub.status.idle": "2024-01-19T21:43:22.497363Z",
     "shell.execute_reply": "2024-01-19T21:43:22.496263Z"
    },
    "papermill": {
     "duration": 1.410116,
     "end_time": "2024-01-19T21:43:22.499579",
     "exception": false,
     "start_time": "2024-01-19T21:43:21.089463",
     "status": "completed"
    },
    "tags": []
   },
   "outputs": [
    {
     "name": "stdout",
     "output_type": "stream",
     "text": [
      "Training Accuracy:  1.0\n",
      "Testing Accuracy:  0.9611904761904762\n"
     ]
    }
   ],
   "source": [
    "print('Training Accuracy: ',rf.score(X_train,Y_train))\n",
    "print('Testing Accuracy: ',rf.score(X_test,Y_test))"
   ]
  },
  {
   "cell_type": "markdown",
   "id": "b9724298",
   "metadata": {
    "papermill": {
     "duration": 0.022661,
     "end_time": "2024-01-19T21:43:22.545460",
     "exception": false,
     "start_time": "2024-01-19T21:43:22.522799",
     "status": "completed"
    },
    "tags": []
   },
   "source": [
    "#### b) Confusion Matrix"
   ]
  },
  {
   "cell_type": "code",
   "execution_count": 23,
   "id": "2f35f4a8",
   "metadata": {
    "execution": {
     "iopub.execute_input": "2024-01-19T21:43:22.592475Z",
     "iopub.status.busy": "2024-01-19T21:43:22.592107Z",
     "iopub.status.idle": "2024-01-19T21:43:22.862910Z",
     "shell.execute_reply": "2024-01-19T21:43:22.861994Z"
    },
    "papermill": {
     "duration": 0.297008,
     "end_time": "2024-01-19T21:43:22.865024",
     "exception": false,
     "start_time": "2024-01-19T21:43:22.568016",
     "status": "completed"
    },
    "tags": []
   },
   "outputs": [
    {
     "data": {
      "text/html": [
       "<div>\n",
       "<style scoped>\n",
       "    .dataframe tbody tr th:only-of-type {\n",
       "        vertical-align: middle;\n",
       "    }\n",
       "\n",
       "    .dataframe tbody tr th {\n",
       "        vertical-align: top;\n",
       "    }\n",
       "\n",
       "    .dataframe thead th {\n",
       "        text-align: right;\n",
       "    }\n",
       "</style>\n",
       "<table border=\"1\" class=\"dataframe\">\n",
       "  <thead>\n",
       "    <tr style=\"text-align: right;\">\n",
       "      <th></th>\n",
       "      <th>0</th>\n",
       "      <th>1</th>\n",
       "      <th>2</th>\n",
       "      <th>3</th>\n",
       "      <th>4</th>\n",
       "      <th>5</th>\n",
       "      <th>6</th>\n",
       "      <th>7</th>\n",
       "      <th>8</th>\n",
       "      <th>9</th>\n",
       "    </tr>\n",
       "  </thead>\n",
       "  <tbody>\n",
       "    <tr>\n",
       "      <th>0</th>\n",
       "      <td>811</td>\n",
       "      <td>0</td>\n",
       "      <td>1</td>\n",
       "      <td>0</td>\n",
       "      <td>1</td>\n",
       "      <td>0</td>\n",
       "      <td>2</td>\n",
       "      <td>1</td>\n",
       "      <td>4</td>\n",
       "      <td>1</td>\n",
       "    </tr>\n",
       "    <tr>\n",
       "      <th>1</th>\n",
       "      <td>0</td>\n",
       "      <td>947</td>\n",
       "      <td>3</td>\n",
       "      <td>6</td>\n",
       "      <td>0</td>\n",
       "      <td>0</td>\n",
       "      <td>0</td>\n",
       "      <td>2</td>\n",
       "      <td>4</td>\n",
       "      <td>0</td>\n",
       "    </tr>\n",
       "    <tr>\n",
       "      <th>2</th>\n",
       "      <td>2</td>\n",
       "      <td>1</td>\n",
       "      <td>796</td>\n",
       "      <td>6</td>\n",
       "      <td>6</td>\n",
       "      <td>0</td>\n",
       "      <td>3</td>\n",
       "      <td>8</td>\n",
       "      <td>5</td>\n",
       "      <td>2</td>\n",
       "    </tr>\n",
       "    <tr>\n",
       "      <th>3</th>\n",
       "      <td>0</td>\n",
       "      <td>3</td>\n",
       "      <td>5</td>\n",
       "      <td>823</td>\n",
       "      <td>0</td>\n",
       "      <td>9</td>\n",
       "      <td>4</td>\n",
       "      <td>6</td>\n",
       "      <td>8</td>\n",
       "      <td>6</td>\n",
       "    </tr>\n",
       "    <tr>\n",
       "      <th>4</th>\n",
       "      <td>2</td>\n",
       "      <td>0</td>\n",
       "      <td>0</td>\n",
       "      <td>0</td>\n",
       "      <td>828</td>\n",
       "      <td>0</td>\n",
       "      <td>7</td>\n",
       "      <td>0</td>\n",
       "      <td>2</td>\n",
       "      <td>17</td>\n",
       "    </tr>\n",
       "    <tr>\n",
       "      <th>5</th>\n",
       "      <td>3</td>\n",
       "      <td>0</td>\n",
       "      <td>2</td>\n",
       "      <td>10</td>\n",
       "      <td>1</td>\n",
       "      <td>695</td>\n",
       "      <td>1</td>\n",
       "      <td>2</td>\n",
       "      <td>10</td>\n",
       "      <td>5</td>\n",
       "    </tr>\n",
       "    <tr>\n",
       "      <th>6</th>\n",
       "      <td>8</td>\n",
       "      <td>1</td>\n",
       "      <td>0</td>\n",
       "      <td>0</td>\n",
       "      <td>1</td>\n",
       "      <td>9</td>\n",
       "      <td>818</td>\n",
       "      <td>0</td>\n",
       "      <td>2</td>\n",
       "      <td>0</td>\n",
       "    </tr>\n",
       "    <tr>\n",
       "      <th>7</th>\n",
       "      <td>1</td>\n",
       "      <td>4</td>\n",
       "      <td>15</td>\n",
       "      <td>1</td>\n",
       "      <td>5</td>\n",
       "      <td>0</td>\n",
       "      <td>0</td>\n",
       "      <td>832</td>\n",
       "      <td>2</td>\n",
       "      <td>13</td>\n",
       "    </tr>\n",
       "    <tr>\n",
       "      <th>8</th>\n",
       "      <td>3</td>\n",
       "      <td>2</td>\n",
       "      <td>4</td>\n",
       "      <td>5</td>\n",
       "      <td>2</td>\n",
       "      <td>8</td>\n",
       "      <td>2</td>\n",
       "      <td>0</td>\n",
       "      <td>753</td>\n",
       "      <td>14</td>\n",
       "    </tr>\n",
       "    <tr>\n",
       "      <th>9</th>\n",
       "      <td>5</td>\n",
       "      <td>3</td>\n",
       "      <td>4</td>\n",
       "      <td>10</td>\n",
       "      <td>16</td>\n",
       "      <td>5</td>\n",
       "      <td>0</td>\n",
       "      <td>15</td>\n",
       "      <td>5</td>\n",
       "      <td>771</td>\n",
       "    </tr>\n",
       "  </tbody>\n",
       "</table>\n",
       "</div>"
      ],
      "text/plain": [
       "     0    1    2    3    4    5    6    7    8    9\n",
       "0  811    0    1    0    1    0    2    1    4    1\n",
       "1    0  947    3    6    0    0    0    2    4    0\n",
       "2    2    1  796    6    6    0    3    8    5    2\n",
       "3    0    3    5  823    0    9    4    6    8    6\n",
       "4    2    0    0    0  828    0    7    0    2   17\n",
       "5    3    0    2   10    1  695    1    2   10    5\n",
       "6    8    1    0    0    1    9  818    0    2    0\n",
       "7    1    4   15    1    5    0    0  832    2   13\n",
       "8    3    2    4    5    2    8    2    0  753   14\n",
       "9    5    3    4   10   16    5    0   15    5  771"
      ]
     },
     "execution_count": 23,
     "metadata": {},
     "output_type": "execute_result"
    }
   ],
   "source": [
    "y1_pred=rf.predict(X_test)\n",
    "\n",
    "pd.DataFrame(confusion_matrix(Y_test,y1_pred),columns=list(range(0,10)))"
   ]
  },
  {
   "cell_type": "markdown",
   "id": "ddfb7c04",
   "metadata": {
    "papermill": {
     "duration": 0.023214,
     "end_time": "2024-01-19T21:43:22.912008",
     "exception": false,
     "start_time": "2024-01-19T21:43:22.888794",
     "status": "completed"
    },
    "tags": []
   },
   "source": [
    "#### c) Classification report"
   ]
  },
  {
   "cell_type": "code",
   "execution_count": 24,
   "id": "2881014b",
   "metadata": {
    "execution": {
     "iopub.execute_input": "2024-01-19T21:43:22.960059Z",
     "iopub.status.busy": "2024-01-19T21:43:22.959712Z",
     "iopub.status.idle": "2024-01-19T21:43:22.987197Z",
     "shell.execute_reply": "2024-01-19T21:43:22.986190Z"
    },
    "papermill": {
     "duration": 0.053954,
     "end_time": "2024-01-19T21:43:22.989368",
     "exception": false,
     "start_time": "2024-01-19T21:43:22.935414",
     "status": "completed"
    },
    "tags": []
   },
   "outputs": [
    {
     "name": "stdout",
     "output_type": "stream",
     "text": [
      "              precision    recall  f1-score   support\n",
      "\n",
      "           0       0.97      0.99      0.98       821\n",
      "           1       0.99      0.98      0.98       962\n",
      "           2       0.96      0.96      0.96       829\n",
      "           3       0.96      0.95      0.95       864\n",
      "           4       0.96      0.97      0.97       856\n",
      "           5       0.96      0.95      0.96       729\n",
      "           6       0.98      0.97      0.98       839\n",
      "           7       0.96      0.95      0.96       873\n",
      "           8       0.95      0.95      0.95       793\n",
      "           9       0.93      0.92      0.93       834\n",
      "\n",
      "    accuracy                           0.96      8400\n",
      "   macro avg       0.96      0.96      0.96      8400\n",
      "weighted avg       0.96      0.96      0.96      8400\n",
      "\n"
     ]
    }
   ],
   "source": [
    "print(classification_report(Y_test, y1_pred))"
   ]
  },
  {
   "cell_type": "markdown",
   "id": "bf0b9891",
   "metadata": {
    "papermill": {
     "duration": 0.023122,
     "end_time": "2024-01-19T21:43:23.036015",
     "exception": false,
     "start_time": "2024-01-19T21:43:23.012893",
     "status": "completed"
    },
    "tags": []
   },
   "source": [
    "<b><span style=\"color: #3C0753; background-color:#A1EEBD; padding: 20px; font-size: 18px; border-left: 8px solid F037A5\">iv) XG Boost</span></b>"
   ]
  },
  {
   "cell_type": "code",
   "execution_count": 25,
   "id": "57bdb332",
   "metadata": {
    "execution": {
     "iopub.execute_input": "2024-01-19T21:43:23.083933Z",
     "iopub.status.busy": "2024-01-19T21:43:23.083535Z",
     "iopub.status.idle": "2024-01-19T21:45:57.888426Z",
     "shell.execute_reply": "2024-01-19T21:45:57.887573Z"
    },
    "papermill": {
     "duration": 154.85512,
     "end_time": "2024-01-19T21:45:57.914500",
     "exception": false,
     "start_time": "2024-01-19T21:43:23.059380",
     "status": "completed"
    },
    "tags": []
   },
   "outputs": [
    {
     "data": {
      "text/html": [
       "<style>#sk-container-id-3 {color: black;background-color: white;}#sk-container-id-3 pre{padding: 0;}#sk-container-id-3 div.sk-toggleable {background-color: white;}#sk-container-id-3 label.sk-toggleable__label {cursor: pointer;display: block;width: 100%;margin-bottom: 0;padding: 0.3em;box-sizing: border-box;text-align: center;}#sk-container-id-3 label.sk-toggleable__label-arrow:before {content: \"▸\";float: left;margin-right: 0.25em;color: #696969;}#sk-container-id-3 label.sk-toggleable__label-arrow:hover:before {color: black;}#sk-container-id-3 div.sk-estimator:hover label.sk-toggleable__label-arrow:before {color: black;}#sk-container-id-3 div.sk-toggleable__content {max-height: 0;max-width: 0;overflow: hidden;text-align: left;background-color: #f0f8ff;}#sk-container-id-3 div.sk-toggleable__content pre {margin: 0.2em;color: black;border-radius: 0.25em;background-color: #f0f8ff;}#sk-container-id-3 input.sk-toggleable__control:checked~div.sk-toggleable__content {max-height: 200px;max-width: 100%;overflow: auto;}#sk-container-id-3 input.sk-toggleable__control:checked~label.sk-toggleable__label-arrow:before {content: \"▾\";}#sk-container-id-3 div.sk-estimator input.sk-toggleable__control:checked~label.sk-toggleable__label {background-color: #d4ebff;}#sk-container-id-3 div.sk-label input.sk-toggleable__control:checked~label.sk-toggleable__label {background-color: #d4ebff;}#sk-container-id-3 input.sk-hidden--visually {border: 0;clip: rect(1px 1px 1px 1px);clip: rect(1px, 1px, 1px, 1px);height: 1px;margin: -1px;overflow: hidden;padding: 0;position: absolute;width: 1px;}#sk-container-id-3 div.sk-estimator {font-family: monospace;background-color: #f0f8ff;border: 1px dotted black;border-radius: 0.25em;box-sizing: border-box;margin-bottom: 0.5em;}#sk-container-id-3 div.sk-estimator:hover {background-color: #d4ebff;}#sk-container-id-3 div.sk-parallel-item::after {content: \"\";width: 100%;border-bottom: 1px solid gray;flex-grow: 1;}#sk-container-id-3 div.sk-label:hover label.sk-toggleable__label {background-color: #d4ebff;}#sk-container-id-3 div.sk-serial::before {content: \"\";position: absolute;border-left: 1px solid gray;box-sizing: border-box;top: 0;bottom: 0;left: 50%;z-index: 0;}#sk-container-id-3 div.sk-serial {display: flex;flex-direction: column;align-items: center;background-color: white;padding-right: 0.2em;padding-left: 0.2em;position: relative;}#sk-container-id-3 div.sk-item {position: relative;z-index: 1;}#sk-container-id-3 div.sk-parallel {display: flex;align-items: stretch;justify-content: center;background-color: white;position: relative;}#sk-container-id-3 div.sk-item::before, #sk-container-id-3 div.sk-parallel-item::before {content: \"\";position: absolute;border-left: 1px solid gray;box-sizing: border-box;top: 0;bottom: 0;left: 50%;z-index: -1;}#sk-container-id-3 div.sk-parallel-item {display: flex;flex-direction: column;z-index: 1;position: relative;background-color: white;}#sk-container-id-3 div.sk-parallel-item:first-child::after {align-self: flex-end;width: 50%;}#sk-container-id-3 div.sk-parallel-item:last-child::after {align-self: flex-start;width: 50%;}#sk-container-id-3 div.sk-parallel-item:only-child::after {width: 0;}#sk-container-id-3 div.sk-dashed-wrapped {border: 1px dashed gray;margin: 0 0.4em 0.5em 0.4em;box-sizing: border-box;padding-bottom: 0.4em;background-color: white;}#sk-container-id-3 div.sk-label label {font-family: monospace;font-weight: bold;display: inline-block;line-height: 1.2em;}#sk-container-id-3 div.sk-label-container {text-align: center;}#sk-container-id-3 div.sk-container {/* jupyter's `normalize.less` sets `[hidden] { display: none; }` but bootstrap.min.css set `[hidden] { display: none !important; }` so we also need the `!important` here to be able to override the default hidden behavior on the sphinx rendered scikit-learn.org. See: https://github.com/scikit-learn/scikit-learn/issues/21755 */display: inline-block !important;position: relative;}#sk-container-id-3 div.sk-text-repr-fallback {display: none;}</style><div id=\"sk-container-id-3\" class=\"sk-top-container\"><div class=\"sk-text-repr-fallback\"><pre>XGBClassifier(base_score=None, booster=None, callbacks=None,\n",
       "              colsample_bylevel=None, colsample_bynode=None,\n",
       "              colsample_bytree=None, device=None, early_stopping_rounds=None,\n",
       "              enable_categorical=False, eval_metric=None, feature_types=None,\n",
       "              gamma=None, grow_policy=None, importance_type=None,\n",
       "              interaction_constraints=None, learning_rate=None, max_bin=None,\n",
       "              max_cat_threshold=None, max_cat_to_onehot=None,\n",
       "              max_delta_step=None, max_depth=None, max_leaves=None,\n",
       "              min_child_weight=None, missing=nan, monotone_constraints=None,\n",
       "              multi_strategy=None, n_estimators=None, n_jobs=None,\n",
       "              num_parallel_tree=None, objective=&#x27;multi:softprob&#x27;, ...)</pre><b>In a Jupyter environment, please rerun this cell to show the HTML representation or trust the notebook. <br />On GitHub, the HTML representation is unable to render, please try loading this page with nbviewer.org.</b></div><div class=\"sk-container\" hidden><div class=\"sk-item\"><div class=\"sk-estimator sk-toggleable\"><input class=\"sk-toggleable__control sk-hidden--visually\" id=\"sk-estimator-id-3\" type=\"checkbox\" checked><label for=\"sk-estimator-id-3\" class=\"sk-toggleable__label sk-toggleable__label-arrow\">XGBClassifier</label><div class=\"sk-toggleable__content\"><pre>XGBClassifier(base_score=None, booster=None, callbacks=None,\n",
       "              colsample_bylevel=None, colsample_bynode=None,\n",
       "              colsample_bytree=None, device=None, early_stopping_rounds=None,\n",
       "              enable_categorical=False, eval_metric=None, feature_types=None,\n",
       "              gamma=None, grow_policy=None, importance_type=None,\n",
       "              interaction_constraints=None, learning_rate=None, max_bin=None,\n",
       "              max_cat_threshold=None, max_cat_to_onehot=None,\n",
       "              max_delta_step=None, max_depth=None, max_leaves=None,\n",
       "              min_child_weight=None, missing=nan, monotone_constraints=None,\n",
       "              multi_strategy=None, n_estimators=None, n_jobs=None,\n",
       "              num_parallel_tree=None, objective=&#x27;multi:softprob&#x27;, ...)</pre></div></div></div></div></div>"
      ],
      "text/plain": [
       "XGBClassifier(base_score=None, booster=None, callbacks=None,\n",
       "              colsample_bylevel=None, colsample_bynode=None,\n",
       "              colsample_bytree=None, device=None, early_stopping_rounds=None,\n",
       "              enable_categorical=False, eval_metric=None, feature_types=None,\n",
       "              gamma=None, grow_policy=None, importance_type=None,\n",
       "              interaction_constraints=None, learning_rate=None, max_bin=None,\n",
       "              max_cat_threshold=None, max_cat_to_onehot=None,\n",
       "              max_delta_step=None, max_depth=None, max_leaves=None,\n",
       "              min_child_weight=None, missing=nan, monotone_constraints=None,\n",
       "              multi_strategy=None, n_estimators=None, n_jobs=None,\n",
       "              num_parallel_tree=None, objective='multi:softprob', ...)"
      ]
     },
     "execution_count": 25,
     "metadata": {},
     "output_type": "execute_result"
    }
   ],
   "source": [
    "xgb=XGBClassifier()\n",
    "xgb.fit(X_train,Y_train)"
   ]
  },
  {
   "cell_type": "markdown",
   "id": "d6f48818",
   "metadata": {
    "papermill": {
     "duration": 0.023111,
     "end_time": "2024-01-19T21:45:57.961066",
     "exception": false,
     "start_time": "2024-01-19T21:45:57.937955",
     "status": "completed"
    },
    "tags": []
   },
   "source": [
    "#### a) Accuracies"
   ]
  },
  {
   "cell_type": "code",
   "execution_count": 26,
   "id": "e8c34069",
   "metadata": {
    "execution": {
     "iopub.execute_input": "2024-01-19T21:45:58.009204Z",
     "iopub.status.busy": "2024-01-19T21:45:58.008879Z",
     "iopub.status.idle": "2024-01-19T21:45:58.772389Z",
     "shell.execute_reply": "2024-01-19T21:45:58.771643Z"
    },
    "papermill": {
     "duration": 0.789952,
     "end_time": "2024-01-19T21:45:58.774294",
     "exception": false,
     "start_time": "2024-01-19T21:45:57.984342",
     "status": "completed"
    },
    "tags": []
   },
   "outputs": [
    {
     "name": "stdout",
     "output_type": "stream",
     "text": [
      "Training Accuracy:  1.0\n",
      "Testing Accuracy:  0.9733333333333334\n"
     ]
    }
   ],
   "source": [
    "print('Training Accuracy: ',xgb.score(X_train,Y_train))\n",
    "print('Testing Accuracy: ',xgb.score(X_test,Y_test))"
   ]
  },
  {
   "cell_type": "markdown",
   "id": "f032672f",
   "metadata": {
    "papermill": {
     "duration": 0.023533,
     "end_time": "2024-01-19T21:45:58.822644",
     "exception": false,
     "start_time": "2024-01-19T21:45:58.799111",
     "status": "completed"
    },
    "tags": []
   },
   "source": [
    "#### b) Confusion Matrix"
   ]
  },
  {
   "cell_type": "code",
   "execution_count": 27,
   "id": "656cd45a",
   "metadata": {
    "execution": {
     "iopub.execute_input": "2024-01-19T21:45:58.871058Z",
     "iopub.status.busy": "2024-01-19T21:45:58.870628Z",
     "iopub.status.idle": "2024-01-19T21:45:59.094468Z",
     "shell.execute_reply": "2024-01-19T21:45:59.093524Z"
    },
    "papermill": {
     "duration": 0.250594,
     "end_time": "2024-01-19T21:45:59.096579",
     "exception": false,
     "start_time": "2024-01-19T21:45:58.845985",
     "status": "completed"
    },
    "tags": []
   },
   "outputs": [
    {
     "data": {
      "text/html": [
       "<div>\n",
       "<style scoped>\n",
       "    .dataframe tbody tr th:only-of-type {\n",
       "        vertical-align: middle;\n",
       "    }\n",
       "\n",
       "    .dataframe tbody tr th {\n",
       "        vertical-align: top;\n",
       "    }\n",
       "\n",
       "    .dataframe thead th {\n",
       "        text-align: right;\n",
       "    }\n",
       "</style>\n",
       "<table border=\"1\" class=\"dataframe\">\n",
       "  <thead>\n",
       "    <tr style=\"text-align: right;\">\n",
       "      <th></th>\n",
       "      <th>0</th>\n",
       "      <th>1</th>\n",
       "      <th>2</th>\n",
       "      <th>3</th>\n",
       "      <th>4</th>\n",
       "      <th>5</th>\n",
       "      <th>6</th>\n",
       "      <th>7</th>\n",
       "      <th>8</th>\n",
       "      <th>9</th>\n",
       "    </tr>\n",
       "  </thead>\n",
       "  <tbody>\n",
       "    <tr>\n",
       "      <th>0</th>\n",
       "      <td>807</td>\n",
       "      <td>0</td>\n",
       "      <td>1</td>\n",
       "      <td>0</td>\n",
       "      <td>2</td>\n",
       "      <td>1</td>\n",
       "      <td>2</td>\n",
       "      <td>0</td>\n",
       "      <td>6</td>\n",
       "      <td>2</td>\n",
       "    </tr>\n",
       "    <tr>\n",
       "      <th>1</th>\n",
       "      <td>0</td>\n",
       "      <td>949</td>\n",
       "      <td>0</td>\n",
       "      <td>6</td>\n",
       "      <td>0</td>\n",
       "      <td>2</td>\n",
       "      <td>0</td>\n",
       "      <td>3</td>\n",
       "      <td>2</td>\n",
       "      <td>0</td>\n",
       "    </tr>\n",
       "    <tr>\n",
       "      <th>2</th>\n",
       "      <td>1</td>\n",
       "      <td>1</td>\n",
       "      <td>804</td>\n",
       "      <td>6</td>\n",
       "      <td>2</td>\n",
       "      <td>0</td>\n",
       "      <td>3</td>\n",
       "      <td>6</td>\n",
       "      <td>3</td>\n",
       "      <td>3</td>\n",
       "    </tr>\n",
       "    <tr>\n",
       "      <th>3</th>\n",
       "      <td>0</td>\n",
       "      <td>2</td>\n",
       "      <td>5</td>\n",
       "      <td>837</td>\n",
       "      <td>1</td>\n",
       "      <td>6</td>\n",
       "      <td>1</td>\n",
       "      <td>4</td>\n",
       "      <td>4</td>\n",
       "      <td>4</td>\n",
       "    </tr>\n",
       "    <tr>\n",
       "      <th>4</th>\n",
       "      <td>2</td>\n",
       "      <td>0</td>\n",
       "      <td>0</td>\n",
       "      <td>0</td>\n",
       "      <td>833</td>\n",
       "      <td>0</td>\n",
       "      <td>2</td>\n",
       "      <td>1</td>\n",
       "      <td>1</td>\n",
       "      <td>17</td>\n",
       "    </tr>\n",
       "    <tr>\n",
       "      <th>5</th>\n",
       "      <td>0</td>\n",
       "      <td>0</td>\n",
       "      <td>3</td>\n",
       "      <td>8</td>\n",
       "      <td>0</td>\n",
       "      <td>704</td>\n",
       "      <td>4</td>\n",
       "      <td>1</td>\n",
       "      <td>6</td>\n",
       "      <td>3</td>\n",
       "    </tr>\n",
       "    <tr>\n",
       "      <th>6</th>\n",
       "      <td>6</td>\n",
       "      <td>1</td>\n",
       "      <td>0</td>\n",
       "      <td>0</td>\n",
       "      <td>3</td>\n",
       "      <td>6</td>\n",
       "      <td>819</td>\n",
       "      <td>0</td>\n",
       "      <td>4</td>\n",
       "      <td>0</td>\n",
       "    </tr>\n",
       "    <tr>\n",
       "      <th>7</th>\n",
       "      <td>1</td>\n",
       "      <td>1</td>\n",
       "      <td>11</td>\n",
       "      <td>0</td>\n",
       "      <td>3</td>\n",
       "      <td>0</td>\n",
       "      <td>0</td>\n",
       "      <td>853</td>\n",
       "      <td>1</td>\n",
       "      <td>3</td>\n",
       "    </tr>\n",
       "    <tr>\n",
       "      <th>8</th>\n",
       "      <td>3</td>\n",
       "      <td>1</td>\n",
       "      <td>4</td>\n",
       "      <td>2</td>\n",
       "      <td>1</td>\n",
       "      <td>6</td>\n",
       "      <td>3</td>\n",
       "      <td>0</td>\n",
       "      <td>768</td>\n",
       "      <td>5</td>\n",
       "    </tr>\n",
       "    <tr>\n",
       "      <th>9</th>\n",
       "      <td>3</td>\n",
       "      <td>2</td>\n",
       "      <td>1</td>\n",
       "      <td>6</td>\n",
       "      <td>6</td>\n",
       "      <td>2</td>\n",
       "      <td>0</td>\n",
       "      <td>11</td>\n",
       "      <td>1</td>\n",
       "      <td>802</td>\n",
       "    </tr>\n",
       "  </tbody>\n",
       "</table>\n",
       "</div>"
      ],
      "text/plain": [
       "     0    1    2    3    4    5    6    7    8    9\n",
       "0  807    0    1    0    2    1    2    0    6    2\n",
       "1    0  949    0    6    0    2    0    3    2    0\n",
       "2    1    1  804    6    2    0    3    6    3    3\n",
       "3    0    2    5  837    1    6    1    4    4    4\n",
       "4    2    0    0    0  833    0    2    1    1   17\n",
       "5    0    0    3    8    0  704    4    1    6    3\n",
       "6    6    1    0    0    3    6  819    0    4    0\n",
       "7    1    1   11    0    3    0    0  853    1    3\n",
       "8    3    1    4    2    1    6    3    0  768    5\n",
       "9    3    2    1    6    6    2    0   11    1  802"
      ]
     },
     "execution_count": 27,
     "metadata": {},
     "output_type": "execute_result"
    }
   ],
   "source": [
    "y2_pred=xgb.predict(X_test)\n",
    "\n",
    "pd.DataFrame(confusion_matrix(Y_test,y2_pred),columns=list(range(0,10)))"
   ]
  },
  {
   "cell_type": "markdown",
   "id": "f2f09a29",
   "metadata": {
    "papermill": {
     "duration": 0.02356,
     "end_time": "2024-01-19T21:45:59.144243",
     "exception": false,
     "start_time": "2024-01-19T21:45:59.120683",
     "status": "completed"
    },
    "tags": []
   },
   "source": [
    "#### c) Classification report"
   ]
  },
  {
   "cell_type": "code",
   "execution_count": 28,
   "id": "09cf1866",
   "metadata": {
    "execution": {
     "iopub.execute_input": "2024-01-19T21:45:59.192947Z",
     "iopub.status.busy": "2024-01-19T21:45:59.192574Z",
     "iopub.status.idle": "2024-01-19T21:45:59.219703Z",
     "shell.execute_reply": "2024-01-19T21:45:59.218621Z"
    },
    "papermill": {
     "duration": 0.053777,
     "end_time": "2024-01-19T21:45:59.221643",
     "exception": false,
     "start_time": "2024-01-19T21:45:59.167866",
     "status": "completed"
    },
    "tags": []
   },
   "outputs": [
    {
     "name": "stdout",
     "output_type": "stream",
     "text": [
      "              precision    recall  f1-score   support\n",
      "\n",
      "           0       0.98      0.98      0.98       821\n",
      "           1       0.99      0.99      0.99       962\n",
      "           2       0.97      0.97      0.97       829\n",
      "           3       0.97      0.97      0.97       864\n",
      "           4       0.98      0.97      0.98       856\n",
      "           5       0.97      0.97      0.97       729\n",
      "           6       0.98      0.98      0.98       839\n",
      "           7       0.97      0.98      0.97       873\n",
      "           8       0.96      0.97      0.97       793\n",
      "           9       0.96      0.96      0.96       834\n",
      "\n",
      "    accuracy                           0.97      8400\n",
      "   macro avg       0.97      0.97      0.97      8400\n",
      "weighted avg       0.97      0.97      0.97      8400\n",
      "\n"
     ]
    }
   ],
   "source": [
    "print(classification_report(Y_test, y2_pred))"
   ]
  },
  {
   "cell_type": "markdown",
   "id": "11076edc",
   "metadata": {
    "papermill": {
     "duration": 0.024914,
     "end_time": "2024-01-19T21:45:59.272376",
     "exception": false,
     "start_time": "2024-01-19T21:45:59.247462",
     "status": "completed"
    },
    "tags": []
   },
   "source": [
    "<b><span style=\"color: #3C0753; background-color:#9BB8CD; padding: 20px; font-size: 18px; border-left: 8px solid F037A5\">v) Light Gradient Boosting Machine</span></b>"
   ]
  },
  {
   "cell_type": "markdown",
   "id": "739c0b73",
   "metadata": {
    "papermill": {
     "duration": 0.029591,
     "end_time": "2024-01-19T21:45:59.325654",
     "exception": false,
     "start_time": "2024-01-19T21:45:59.296063",
     "status": "completed"
    },
    "tags": []
   },
   "source": [
    "#### LightGBM is a gradient boosting framework that uses tree based learning algorithms.\n",
    "\n",
    "#### It is designed to be distributed and efficient with the following advantages -->\n",
    "\n",
    "- **Faster training speed and higher efficiency.**\n",
    "- **Lower memory usage.**\n",
    "- **Better accuracy.**\n",
    "- **Support of parallel, distributed, and GPU learning.**\n",
    "- **Capable of handling large-scale data.**"
   ]
  },
  {
   "cell_type": "code",
   "execution_count": 29,
   "id": "8954596f",
   "metadata": {
    "execution": {
     "iopub.execute_input": "2024-01-19T21:45:59.381787Z",
     "iopub.status.busy": "2024-01-19T21:45:59.381397Z",
     "iopub.status.idle": "2024-01-19T21:46:52.313314Z",
     "shell.execute_reply": "2024-01-19T21:46:52.312630Z"
    },
    "papermill": {
     "duration": 52.986585,
     "end_time": "2024-01-19T21:46:52.339747",
     "exception": false,
     "start_time": "2024-01-19T21:45:59.353162",
     "status": "completed"
    },
    "tags": []
   },
   "outputs": [
    {
     "data": {
      "text/html": [
       "<style>#sk-container-id-4 {color: black;background-color: white;}#sk-container-id-4 pre{padding: 0;}#sk-container-id-4 div.sk-toggleable {background-color: white;}#sk-container-id-4 label.sk-toggleable__label {cursor: pointer;display: block;width: 100%;margin-bottom: 0;padding: 0.3em;box-sizing: border-box;text-align: center;}#sk-container-id-4 label.sk-toggleable__label-arrow:before {content: \"▸\";float: left;margin-right: 0.25em;color: #696969;}#sk-container-id-4 label.sk-toggleable__label-arrow:hover:before {color: black;}#sk-container-id-4 div.sk-estimator:hover label.sk-toggleable__label-arrow:before {color: black;}#sk-container-id-4 div.sk-toggleable__content {max-height: 0;max-width: 0;overflow: hidden;text-align: left;background-color: #f0f8ff;}#sk-container-id-4 div.sk-toggleable__content pre {margin: 0.2em;color: black;border-radius: 0.25em;background-color: #f0f8ff;}#sk-container-id-4 input.sk-toggleable__control:checked~div.sk-toggleable__content {max-height: 200px;max-width: 100%;overflow: auto;}#sk-container-id-4 input.sk-toggleable__control:checked~label.sk-toggleable__label-arrow:before {content: \"▾\";}#sk-container-id-4 div.sk-estimator input.sk-toggleable__control:checked~label.sk-toggleable__label {background-color: #d4ebff;}#sk-container-id-4 div.sk-label input.sk-toggleable__control:checked~label.sk-toggleable__label {background-color: #d4ebff;}#sk-container-id-4 input.sk-hidden--visually {border: 0;clip: rect(1px 1px 1px 1px);clip: rect(1px, 1px, 1px, 1px);height: 1px;margin: -1px;overflow: hidden;padding: 0;position: absolute;width: 1px;}#sk-container-id-4 div.sk-estimator {font-family: monospace;background-color: #f0f8ff;border: 1px dotted black;border-radius: 0.25em;box-sizing: border-box;margin-bottom: 0.5em;}#sk-container-id-4 div.sk-estimator:hover {background-color: #d4ebff;}#sk-container-id-4 div.sk-parallel-item::after {content: \"\";width: 100%;border-bottom: 1px solid gray;flex-grow: 1;}#sk-container-id-4 div.sk-label:hover label.sk-toggleable__label {background-color: #d4ebff;}#sk-container-id-4 div.sk-serial::before {content: \"\";position: absolute;border-left: 1px solid gray;box-sizing: border-box;top: 0;bottom: 0;left: 50%;z-index: 0;}#sk-container-id-4 div.sk-serial {display: flex;flex-direction: column;align-items: center;background-color: white;padding-right: 0.2em;padding-left: 0.2em;position: relative;}#sk-container-id-4 div.sk-item {position: relative;z-index: 1;}#sk-container-id-4 div.sk-parallel {display: flex;align-items: stretch;justify-content: center;background-color: white;position: relative;}#sk-container-id-4 div.sk-item::before, #sk-container-id-4 div.sk-parallel-item::before {content: \"\";position: absolute;border-left: 1px solid gray;box-sizing: border-box;top: 0;bottom: 0;left: 50%;z-index: -1;}#sk-container-id-4 div.sk-parallel-item {display: flex;flex-direction: column;z-index: 1;position: relative;background-color: white;}#sk-container-id-4 div.sk-parallel-item:first-child::after {align-self: flex-end;width: 50%;}#sk-container-id-4 div.sk-parallel-item:last-child::after {align-self: flex-start;width: 50%;}#sk-container-id-4 div.sk-parallel-item:only-child::after {width: 0;}#sk-container-id-4 div.sk-dashed-wrapped {border: 1px dashed gray;margin: 0 0.4em 0.5em 0.4em;box-sizing: border-box;padding-bottom: 0.4em;background-color: white;}#sk-container-id-4 div.sk-label label {font-family: monospace;font-weight: bold;display: inline-block;line-height: 1.2em;}#sk-container-id-4 div.sk-label-container {text-align: center;}#sk-container-id-4 div.sk-container {/* jupyter's `normalize.less` sets `[hidden] { display: none; }` but bootstrap.min.css set `[hidden] { display: none !important; }` so we also need the `!important` here to be able to override the default hidden behavior on the sphinx rendered scikit-learn.org. See: https://github.com/scikit-learn/scikit-learn/issues/21755 */display: inline-block !important;position: relative;}#sk-container-id-4 div.sk-text-repr-fallback {display: none;}</style><div id=\"sk-container-id-4\" class=\"sk-top-container\"><div class=\"sk-text-repr-fallback\"><pre>LGBMClassifier()</pre><b>In a Jupyter environment, please rerun this cell to show the HTML representation or trust the notebook. <br />On GitHub, the HTML representation is unable to render, please try loading this page with nbviewer.org.</b></div><div class=\"sk-container\" hidden><div class=\"sk-item\"><div class=\"sk-estimator sk-toggleable\"><input class=\"sk-toggleable__control sk-hidden--visually\" id=\"sk-estimator-id-4\" type=\"checkbox\" checked><label for=\"sk-estimator-id-4\" class=\"sk-toggleable__label sk-toggleable__label-arrow\">LGBMClassifier</label><div class=\"sk-toggleable__content\"><pre>LGBMClassifier()</pre></div></div></div></div></div>"
      ],
      "text/plain": [
       "LGBMClassifier()"
      ]
     },
     "execution_count": 29,
     "metadata": {},
     "output_type": "execute_result"
    }
   ],
   "source": [
    "lgm= LGBMClassifier()\n",
    "lgm.fit(X_train,Y_train)"
   ]
  },
  {
   "cell_type": "markdown",
   "id": "b402b654",
   "metadata": {
    "papermill": {
     "duration": 0.023691,
     "end_time": "2024-01-19T21:46:52.387901",
     "exception": false,
     "start_time": "2024-01-19T21:46:52.364210",
     "status": "completed"
    },
    "tags": []
   },
   "source": [
    "#### a) Accuracies"
   ]
  },
  {
   "cell_type": "code",
   "execution_count": 30,
   "id": "ca8f4cb0",
   "metadata": {
    "execution": {
     "iopub.execute_input": "2024-01-19T21:46:52.437835Z",
     "iopub.status.busy": "2024-01-19T21:46:52.437471Z",
     "iopub.status.idle": "2024-01-19T21:46:54.060441Z",
     "shell.execute_reply": "2024-01-19T21:46:54.059649Z"
    },
    "papermill": {
     "duration": 1.650237,
     "end_time": "2024-01-19T21:46:54.062403",
     "exception": false,
     "start_time": "2024-01-19T21:46:52.412166",
     "status": "completed"
    },
    "tags": []
   },
   "outputs": [
    {
     "name": "stdout",
     "output_type": "stream",
     "text": [
      "Training Accuracy:  1.0\n",
      "Testing Accuracy:  0.9726190476190476\n"
     ]
    }
   ],
   "source": [
    "print('Training Accuracy: ',lgm.score(X_train,Y_train))\n",
    "print('Testing Accuracy: ',lgm.score(X_test,Y_test))"
   ]
  },
  {
   "cell_type": "markdown",
   "id": "c27b2253",
   "metadata": {
    "papermill": {
     "duration": 0.024062,
     "end_time": "2024-01-19T21:46:54.112110",
     "exception": false,
     "start_time": "2024-01-19T21:46:54.088048",
     "status": "completed"
    },
    "tags": []
   },
   "source": [
    "#### b) Confusion Matrix"
   ]
  },
  {
   "cell_type": "code",
   "execution_count": 31,
   "id": "8f77180a",
   "metadata": {
    "execution": {
     "iopub.execute_input": "2024-01-19T21:46:54.162155Z",
     "iopub.status.busy": "2024-01-19T21:46:54.161466Z",
     "iopub.status.idle": "2024-01-19T21:46:54.490955Z",
     "shell.execute_reply": "2024-01-19T21:46:54.489983Z"
    },
    "papermill": {
     "duration": 0.356847,
     "end_time": "2024-01-19T21:46:54.493110",
     "exception": false,
     "start_time": "2024-01-19T21:46:54.136263",
     "status": "completed"
    },
    "tags": []
   },
   "outputs": [
    {
     "data": {
      "text/html": [
       "<div>\n",
       "<style scoped>\n",
       "    .dataframe tbody tr th:only-of-type {\n",
       "        vertical-align: middle;\n",
       "    }\n",
       "\n",
       "    .dataframe tbody tr th {\n",
       "        vertical-align: top;\n",
       "    }\n",
       "\n",
       "    .dataframe thead th {\n",
       "        text-align: right;\n",
       "    }\n",
       "</style>\n",
       "<table border=\"1\" class=\"dataframe\">\n",
       "  <thead>\n",
       "    <tr style=\"text-align: right;\">\n",
       "      <th></th>\n",
       "      <th>0</th>\n",
       "      <th>1</th>\n",
       "      <th>2</th>\n",
       "      <th>3</th>\n",
       "      <th>4</th>\n",
       "      <th>5</th>\n",
       "      <th>6</th>\n",
       "      <th>7</th>\n",
       "      <th>8</th>\n",
       "      <th>9</th>\n",
       "    </tr>\n",
       "  </thead>\n",
       "  <tbody>\n",
       "    <tr>\n",
       "      <th>0</th>\n",
       "      <td>806</td>\n",
       "      <td>0</td>\n",
       "      <td>1</td>\n",
       "      <td>1</td>\n",
       "      <td>1</td>\n",
       "      <td>2</td>\n",
       "      <td>1</td>\n",
       "      <td>1</td>\n",
       "      <td>7</td>\n",
       "      <td>1</td>\n",
       "    </tr>\n",
       "    <tr>\n",
       "      <th>1</th>\n",
       "      <td>0</td>\n",
       "      <td>946</td>\n",
       "      <td>2</td>\n",
       "      <td>7</td>\n",
       "      <td>0</td>\n",
       "      <td>0</td>\n",
       "      <td>0</td>\n",
       "      <td>2</td>\n",
       "      <td>5</td>\n",
       "      <td>0</td>\n",
       "    </tr>\n",
       "    <tr>\n",
       "      <th>2</th>\n",
       "      <td>1</td>\n",
       "      <td>1</td>\n",
       "      <td>804</td>\n",
       "      <td>7</td>\n",
       "      <td>2</td>\n",
       "      <td>0</td>\n",
       "      <td>1</td>\n",
       "      <td>6</td>\n",
       "      <td>4</td>\n",
       "      <td>3</td>\n",
       "    </tr>\n",
       "    <tr>\n",
       "      <th>3</th>\n",
       "      <td>0</td>\n",
       "      <td>1</td>\n",
       "      <td>9</td>\n",
       "      <td>831</td>\n",
       "      <td>0</td>\n",
       "      <td>8</td>\n",
       "      <td>1</td>\n",
       "      <td>4</td>\n",
       "      <td>6</td>\n",
       "      <td>4</td>\n",
       "    </tr>\n",
       "    <tr>\n",
       "      <th>4</th>\n",
       "      <td>2</td>\n",
       "      <td>0</td>\n",
       "      <td>0</td>\n",
       "      <td>0</td>\n",
       "      <td>840</td>\n",
       "      <td>0</td>\n",
       "      <td>1</td>\n",
       "      <td>0</td>\n",
       "      <td>1</td>\n",
       "      <td>12</td>\n",
       "    </tr>\n",
       "    <tr>\n",
       "      <th>5</th>\n",
       "      <td>0</td>\n",
       "      <td>0</td>\n",
       "      <td>3</td>\n",
       "      <td>7</td>\n",
       "      <td>0</td>\n",
       "      <td>704</td>\n",
       "      <td>2</td>\n",
       "      <td>1</td>\n",
       "      <td>7</td>\n",
       "      <td>5</td>\n",
       "    </tr>\n",
       "    <tr>\n",
       "      <th>6</th>\n",
       "      <td>4</td>\n",
       "      <td>1</td>\n",
       "      <td>0</td>\n",
       "      <td>0</td>\n",
       "      <td>1</td>\n",
       "      <td>6</td>\n",
       "      <td>821</td>\n",
       "      <td>0</td>\n",
       "      <td>6</td>\n",
       "      <td>0</td>\n",
       "    </tr>\n",
       "    <tr>\n",
       "      <th>7</th>\n",
       "      <td>0</td>\n",
       "      <td>1</td>\n",
       "      <td>8</td>\n",
       "      <td>1</td>\n",
       "      <td>3</td>\n",
       "      <td>0</td>\n",
       "      <td>0</td>\n",
       "      <td>850</td>\n",
       "      <td>3</td>\n",
       "      <td>7</td>\n",
       "    </tr>\n",
       "    <tr>\n",
       "      <th>8</th>\n",
       "      <td>2</td>\n",
       "      <td>1</td>\n",
       "      <td>3</td>\n",
       "      <td>2</td>\n",
       "      <td>1</td>\n",
       "      <td>5</td>\n",
       "      <td>0</td>\n",
       "      <td>0</td>\n",
       "      <td>772</td>\n",
       "      <td>7</td>\n",
       "    </tr>\n",
       "    <tr>\n",
       "      <th>9</th>\n",
       "      <td>3</td>\n",
       "      <td>2</td>\n",
       "      <td>1</td>\n",
       "      <td>7</td>\n",
       "      <td>8</td>\n",
       "      <td>3</td>\n",
       "      <td>0</td>\n",
       "      <td>12</td>\n",
       "      <td>2</td>\n",
       "      <td>796</td>\n",
       "    </tr>\n",
       "  </tbody>\n",
       "</table>\n",
       "</div>"
      ],
      "text/plain": [
       "     0    1    2    3    4    5    6    7    8    9\n",
       "0  806    0    1    1    1    2    1    1    7    1\n",
       "1    0  946    2    7    0    0    0    2    5    0\n",
       "2    1    1  804    7    2    0    1    6    4    3\n",
       "3    0    1    9  831    0    8    1    4    6    4\n",
       "4    2    0    0    0  840    0    1    0    1   12\n",
       "5    0    0    3    7    0  704    2    1    7    5\n",
       "6    4    1    0    0    1    6  821    0    6    0\n",
       "7    0    1    8    1    3    0    0  850    3    7\n",
       "8    2    1    3    2    1    5    0    0  772    7\n",
       "9    3    2    1    7    8    3    0   12    2  796"
      ]
     },
     "execution_count": 31,
     "metadata": {},
     "output_type": "execute_result"
    }
   ],
   "source": [
    "y3_pred=lgm.predict(X_test)\n",
    "\n",
    "pd.DataFrame(confusion_matrix(Y_test,y3_pred),columns=list(range(0,10)))"
   ]
  },
  {
   "cell_type": "markdown",
   "id": "c69c23d5",
   "metadata": {
    "papermill": {
     "duration": 0.024131,
     "end_time": "2024-01-19T21:46:54.544300",
     "exception": false,
     "start_time": "2024-01-19T21:46:54.520169",
     "status": "completed"
    },
    "tags": []
   },
   "source": [
    "#### c) Classification Report"
   ]
  },
  {
   "cell_type": "code",
   "execution_count": 32,
   "id": "1b683e63",
   "metadata": {
    "execution": {
     "iopub.execute_input": "2024-01-19T21:46:54.594828Z",
     "iopub.status.busy": "2024-01-19T21:46:54.594128Z",
     "iopub.status.idle": "2024-01-19T21:46:54.622443Z",
     "shell.execute_reply": "2024-01-19T21:46:54.621384Z"
    },
    "papermill": {
     "duration": 0.056164,
     "end_time": "2024-01-19T21:46:54.624934",
     "exception": false,
     "start_time": "2024-01-19T21:46:54.568770",
     "status": "completed"
    },
    "tags": []
   },
   "outputs": [
    {
     "name": "stdout",
     "output_type": "stream",
     "text": [
      "              precision    recall  f1-score   support\n",
      "\n",
      "           0       0.99      0.98      0.98       821\n",
      "           1       0.99      0.98      0.99       962\n",
      "           2       0.97      0.97      0.97       829\n",
      "           3       0.96      0.96      0.96       864\n",
      "           4       0.98      0.98      0.98       856\n",
      "           5       0.97      0.97      0.97       729\n",
      "           6       0.99      0.98      0.99       839\n",
      "           7       0.97      0.97      0.97       873\n",
      "           8       0.95      0.97      0.96       793\n",
      "           9       0.95      0.95      0.95       834\n",
      "\n",
      "    accuracy                           0.97      8400\n",
      "   macro avg       0.97      0.97      0.97      8400\n",
      "weighted avg       0.97      0.97      0.97      8400\n",
      "\n"
     ]
    }
   ],
   "source": [
    "print(classification_report(Y_test, y3_pred))"
   ]
  },
  {
   "cell_type": "markdown",
   "id": "2a340b68",
   "metadata": {
    "papermill": {
     "duration": 0.024728,
     "end_time": "2024-01-19T21:46:54.675999",
     "exception": false,
     "start_time": "2024-01-19T21:46:54.651271",
     "status": "completed"
    },
    "tags": []
   },
   "source": [
    "<div style=\"background-color: #F2F3F4; padding: 20px; border-radius: 10px;\">\n",
    "    <p style=\"font-size: 18px; font-family: 'Verdana'; color: #3A405A; text-align: center;\">\n",
    "Based on the accuracy and performance , we are considering our model as LightGBM.</p>\n",
    "</div>"
   ]
  },
  {
   "cell_type": "markdown",
   "id": "61184366",
   "metadata": {
    "papermill": {
     "duration": 0.024214,
     "end_time": "2024-01-19T21:46:54.725291",
     "exception": false,
     "start_time": "2024-01-19T21:46:54.701077",
     "status": "completed"
    },
    "tags": []
   },
   "source": [
    "-----------------------------------------------------------------------------------------------------------------"
   ]
  },
  {
   "cell_type": "markdown",
   "id": "88272b3f",
   "metadata": {
    "papermill": {
     "duration": 0.024583,
     "end_time": "2024-01-19T21:46:54.774890",
     "exception": false,
     "start_time": "2024-01-19T21:46:54.750307",
     "status": "completed"
    },
    "tags": []
   },
   "source": [
    "<div style=\"background-color:  #FFF8C9; #padding: 20px; border-radius: 20px;\">\n",
    "    <p style=\"font-size: 40px; font-family: 'Verdana'; color: #3A405A; text-align: center;\">For Kaggle submissions</p>\n",
    "</div>"
   ]
  },
  {
   "cell_type": "code",
   "execution_count": 33,
   "id": "95f2146f",
   "metadata": {
    "execution": {
     "iopub.execute_input": "2024-01-19T21:46:54.826095Z",
     "iopub.status.busy": "2024-01-19T21:46:54.825206Z",
     "iopub.status.idle": "2024-01-19T21:46:56.801106Z",
     "shell.execute_reply": "2024-01-19T21:46:56.800125Z"
    },
    "papermill": {
     "duration": 2.003842,
     "end_time": "2024-01-19T21:46:56.803440",
     "exception": false,
     "start_time": "2024-01-19T21:46:54.799598",
     "status": "completed"
    },
    "tags": []
   },
   "outputs": [],
   "source": [
    "test_data=pd.read_csv('/kaggle/input/digit-recognizer/test.csv')"
   ]
  },
  {
   "cell_type": "code",
   "execution_count": 34,
   "id": "b9de166f",
   "metadata": {
    "execution": {
     "iopub.execute_input": "2024-01-19T21:46:56.856050Z",
     "iopub.status.busy": "2024-01-19T21:46:56.855404Z",
     "iopub.status.idle": "2024-01-19T21:46:56.870781Z",
     "shell.execute_reply": "2024-01-19T21:46:56.869924Z"
    },
    "papermill": {
     "duration": 0.044057,
     "end_time": "2024-01-19T21:46:56.872753",
     "exception": false,
     "start_time": "2024-01-19T21:46:56.828696",
     "status": "completed"
    },
    "tags": []
   },
   "outputs": [
    {
     "data": {
      "text/html": [
       "<div>\n",
       "<style scoped>\n",
       "    .dataframe tbody tr th:only-of-type {\n",
       "        vertical-align: middle;\n",
       "    }\n",
       "\n",
       "    .dataframe tbody tr th {\n",
       "        vertical-align: top;\n",
       "    }\n",
       "\n",
       "    .dataframe thead th {\n",
       "        text-align: right;\n",
       "    }\n",
       "</style>\n",
       "<table border=\"1\" class=\"dataframe\">\n",
       "  <thead>\n",
       "    <tr style=\"text-align: right;\">\n",
       "      <th></th>\n",
       "      <th>pixel0</th>\n",
       "      <th>pixel1</th>\n",
       "      <th>pixel2</th>\n",
       "      <th>pixel3</th>\n",
       "      <th>pixel4</th>\n",
       "      <th>pixel5</th>\n",
       "      <th>pixel6</th>\n",
       "      <th>pixel7</th>\n",
       "      <th>pixel8</th>\n",
       "      <th>pixel9</th>\n",
       "      <th>...</th>\n",
       "      <th>pixel774</th>\n",
       "      <th>pixel775</th>\n",
       "      <th>pixel776</th>\n",
       "      <th>pixel777</th>\n",
       "      <th>pixel778</th>\n",
       "      <th>pixel779</th>\n",
       "      <th>pixel780</th>\n",
       "      <th>pixel781</th>\n",
       "      <th>pixel782</th>\n",
       "      <th>pixel783</th>\n",
       "    </tr>\n",
       "  </thead>\n",
       "  <tbody>\n",
       "    <tr>\n",
       "      <th>0</th>\n",
       "      <td>0</td>\n",
       "      <td>0</td>\n",
       "      <td>0</td>\n",
       "      <td>0</td>\n",
       "      <td>0</td>\n",
       "      <td>0</td>\n",
       "      <td>0</td>\n",
       "      <td>0</td>\n",
       "      <td>0</td>\n",
       "      <td>0</td>\n",
       "      <td>...</td>\n",
       "      <td>0</td>\n",
       "      <td>0</td>\n",
       "      <td>0</td>\n",
       "      <td>0</td>\n",
       "      <td>0</td>\n",
       "      <td>0</td>\n",
       "      <td>0</td>\n",
       "      <td>0</td>\n",
       "      <td>0</td>\n",
       "      <td>0</td>\n",
       "    </tr>\n",
       "    <tr>\n",
       "      <th>1</th>\n",
       "      <td>0</td>\n",
       "      <td>0</td>\n",
       "      <td>0</td>\n",
       "      <td>0</td>\n",
       "      <td>0</td>\n",
       "      <td>0</td>\n",
       "      <td>0</td>\n",
       "      <td>0</td>\n",
       "      <td>0</td>\n",
       "      <td>0</td>\n",
       "      <td>...</td>\n",
       "      <td>0</td>\n",
       "      <td>0</td>\n",
       "      <td>0</td>\n",
       "      <td>0</td>\n",
       "      <td>0</td>\n",
       "      <td>0</td>\n",
       "      <td>0</td>\n",
       "      <td>0</td>\n",
       "      <td>0</td>\n",
       "      <td>0</td>\n",
       "    </tr>\n",
       "    <tr>\n",
       "      <th>2</th>\n",
       "      <td>0</td>\n",
       "      <td>0</td>\n",
       "      <td>0</td>\n",
       "      <td>0</td>\n",
       "      <td>0</td>\n",
       "      <td>0</td>\n",
       "      <td>0</td>\n",
       "      <td>0</td>\n",
       "      <td>0</td>\n",
       "      <td>0</td>\n",
       "      <td>...</td>\n",
       "      <td>0</td>\n",
       "      <td>0</td>\n",
       "      <td>0</td>\n",
       "      <td>0</td>\n",
       "      <td>0</td>\n",
       "      <td>0</td>\n",
       "      <td>0</td>\n",
       "      <td>0</td>\n",
       "      <td>0</td>\n",
       "      <td>0</td>\n",
       "    </tr>\n",
       "    <tr>\n",
       "      <th>3</th>\n",
       "      <td>0</td>\n",
       "      <td>0</td>\n",
       "      <td>0</td>\n",
       "      <td>0</td>\n",
       "      <td>0</td>\n",
       "      <td>0</td>\n",
       "      <td>0</td>\n",
       "      <td>0</td>\n",
       "      <td>0</td>\n",
       "      <td>0</td>\n",
       "      <td>...</td>\n",
       "      <td>0</td>\n",
       "      <td>0</td>\n",
       "      <td>0</td>\n",
       "      <td>0</td>\n",
       "      <td>0</td>\n",
       "      <td>0</td>\n",
       "      <td>0</td>\n",
       "      <td>0</td>\n",
       "      <td>0</td>\n",
       "      <td>0</td>\n",
       "    </tr>\n",
       "    <tr>\n",
       "      <th>4</th>\n",
       "      <td>0</td>\n",
       "      <td>0</td>\n",
       "      <td>0</td>\n",
       "      <td>0</td>\n",
       "      <td>0</td>\n",
       "      <td>0</td>\n",
       "      <td>0</td>\n",
       "      <td>0</td>\n",
       "      <td>0</td>\n",
       "      <td>0</td>\n",
       "      <td>...</td>\n",
       "      <td>0</td>\n",
       "      <td>0</td>\n",
       "      <td>0</td>\n",
       "      <td>0</td>\n",
       "      <td>0</td>\n",
       "      <td>0</td>\n",
       "      <td>0</td>\n",
       "      <td>0</td>\n",
       "      <td>0</td>\n",
       "      <td>0</td>\n",
       "    </tr>\n",
       "  </tbody>\n",
       "</table>\n",
       "<p>5 rows × 784 columns</p>\n",
       "</div>"
      ],
      "text/plain": [
       "   pixel0  pixel1  pixel2  pixel3  pixel4  pixel5  pixel6  pixel7  pixel8  \\\n",
       "0       0       0       0       0       0       0       0       0       0   \n",
       "1       0       0       0       0       0       0       0       0       0   \n",
       "2       0       0       0       0       0       0       0       0       0   \n",
       "3       0       0       0       0       0       0       0       0       0   \n",
       "4       0       0       0       0       0       0       0       0       0   \n",
       "\n",
       "   pixel9  ...  pixel774  pixel775  pixel776  pixel777  pixel778  pixel779  \\\n",
       "0       0  ...         0         0         0         0         0         0   \n",
       "1       0  ...         0         0         0         0         0         0   \n",
       "2       0  ...         0         0         0         0         0         0   \n",
       "3       0  ...         0         0         0         0         0         0   \n",
       "4       0  ...         0         0         0         0         0         0   \n",
       "\n",
       "   pixel780  pixel781  pixel782  pixel783  \n",
       "0         0         0         0         0  \n",
       "1         0         0         0         0  \n",
       "2         0         0         0         0  \n",
       "3         0         0         0         0  \n",
       "4         0         0         0         0  \n",
       "\n",
       "[5 rows x 784 columns]"
      ]
     },
     "execution_count": 34,
     "metadata": {},
     "output_type": "execute_result"
    }
   ],
   "source": [
    "test_data.head()"
   ]
  },
  {
   "cell_type": "code",
   "execution_count": 35,
   "id": "44ac533c",
   "metadata": {
    "execution": {
     "iopub.execute_input": "2024-01-19T21:46:56.923978Z",
     "iopub.status.busy": "2024-01-19T21:46:56.923652Z",
     "iopub.status.idle": "2024-01-19T21:46:56.929129Z",
     "shell.execute_reply": "2024-01-19T21:46:56.928286Z"
    },
    "papermill": {
     "duration": 0.033267,
     "end_time": "2024-01-19T21:46:56.931054",
     "exception": false,
     "start_time": "2024-01-19T21:46:56.897787",
     "status": "completed"
    },
    "tags": []
   },
   "outputs": [
    {
     "data": {
      "text/plain": [
       "(28000, 784)"
      ]
     },
     "execution_count": 35,
     "metadata": {},
     "output_type": "execute_result"
    }
   ],
   "source": [
    "test_data.shape"
   ]
  },
  {
   "cell_type": "code",
   "execution_count": 36,
   "id": "d122ac6e",
   "metadata": {
    "execution": {
     "iopub.execute_input": "2024-01-19T21:46:56.981897Z",
     "iopub.status.busy": "2024-01-19T21:46:56.981559Z",
     "iopub.status.idle": "2024-01-19T21:46:58.030308Z",
     "shell.execute_reply": "2024-01-19T21:46:58.029517Z"
    },
    "papermill": {
     "duration": 1.076661,
     "end_time": "2024-01-19T21:46:58.032514",
     "exception": false,
     "start_time": "2024-01-19T21:46:56.955853",
     "status": "completed"
    },
    "tags": []
   },
   "outputs": [],
   "source": [
    "Y_pred=lgm.predict(test_data)"
   ]
  },
  {
   "cell_type": "code",
   "execution_count": 37,
   "id": "5c20d790",
   "metadata": {
    "execution": {
     "iopub.execute_input": "2024-01-19T21:46:58.085122Z",
     "iopub.status.busy": "2024-01-19T21:46:58.084780Z",
     "iopub.status.idle": "2024-01-19T21:46:58.090634Z",
     "shell.execute_reply": "2024-01-19T21:46:58.089789Z"
    },
    "papermill": {
     "duration": 0.033694,
     "end_time": "2024-01-19T21:46:58.092615",
     "exception": false,
     "start_time": "2024-01-19T21:46:58.058921",
     "status": "completed"
    },
    "tags": []
   },
   "outputs": [
    {
     "data": {
      "text/plain": [
       "array([2, 0, 9, ..., 3, 9, 2])"
      ]
     },
     "execution_count": 37,
     "metadata": {},
     "output_type": "execute_result"
    }
   ],
   "source": [
    "Y_pred"
   ]
  },
  {
   "cell_type": "markdown",
   "id": "9c426378",
   "metadata": {
    "papermill": {
     "duration": 0.024756,
     "end_time": "2024-01-19T21:46:58.142489",
     "exception": false,
     "start_time": "2024-01-19T21:46:58.117733",
     "status": "completed"
    },
    "tags": []
   },
   "source": [
    "<div style=\"background-color: #F2F3F4; padding: 20px; border-radius: 10px;\">\n",
    "    <p style=\"font-size: 18px; font-family: 'Verdana'; color: #3A405A; text-align: center;\">\n",
    "Saving the prediction for submission</p>\n",
    "</div>"
   ]
  },
  {
   "cell_type": "markdown",
   "id": "f06661e3",
   "metadata": {
    "papermill": {
     "duration": 0.024832,
     "end_time": "2024-01-19T21:46:58.192346",
     "exception": false,
     "start_time": "2024-01-19T21:46:58.167514",
     "status": "completed"
    },
    "tags": []
   },
   "source": [
    "<b><span style=\"color: #3C0753; background-color:#FFF8C9; padding: 20px; font-size: 18px; border-left: 8px solid F037A5\">As per format in kaggle submission,we need Id and Y_pred</span></b>"
   ]
  },
  {
   "cell_type": "code",
   "execution_count": 38,
   "id": "10dbd776",
   "metadata": {
    "execution": {
     "iopub.execute_input": "2024-01-19T21:46:58.244279Z",
     "iopub.status.busy": "2024-01-19T21:46:58.243675Z",
     "iopub.status.idle": "2024-01-19T21:46:58.303100Z",
     "shell.execute_reply": "2024-01-19T21:46:58.302156Z"
    },
    "papermill": {
     "duration": 0.087911,
     "end_time": "2024-01-19T21:46:58.305361",
     "exception": false,
     "start_time": "2024-01-19T21:46:58.217450",
     "status": "completed"
    },
    "tags": []
   },
   "outputs": [],
   "source": [
    "submission = pd.DataFrame({'ImageId': test_data.index + 1, 'Label': Y_pred})\n",
    "submission.to_csv('submission.csv', index=False)"
   ]
  },
  {
   "cell_type": "markdown",
   "id": "f589be01",
   "metadata": {
    "papermill": {
     "duration": 0.025108,
     "end_time": "2024-01-19T21:46:58.356035",
     "exception": false,
     "start_time": "2024-01-19T21:46:58.330927",
     "status": "completed"
    },
    "tags": []
   },
   "source": [
    "<b><span style=\"color: #3C0753; background-color:#FFF8C9; padding: 20px; font-size: 18px; border-left: 8px solid F037A5\">Submission csv file</span></b>"
   ]
  },
  {
   "cell_type": "code",
   "execution_count": 39,
   "id": "5f7c08ff",
   "metadata": {
    "execution": {
     "iopub.execute_input": "2024-01-19T21:46:58.407855Z",
     "iopub.status.busy": "2024-01-19T21:46:58.407045Z",
     "iopub.status.idle": "2024-01-19T21:46:58.417172Z",
     "shell.execute_reply": "2024-01-19T21:46:58.416354Z"
    },
    "papermill": {
     "duration": 0.038108,
     "end_time": "2024-01-19T21:46:58.419046",
     "exception": false,
     "start_time": "2024-01-19T21:46:58.380938",
     "status": "completed"
    },
    "tags": []
   },
   "outputs": [
    {
     "data": {
      "text/html": [
       "<div>\n",
       "<style scoped>\n",
       "    .dataframe tbody tr th:only-of-type {\n",
       "        vertical-align: middle;\n",
       "    }\n",
       "\n",
       "    .dataframe tbody tr th {\n",
       "        vertical-align: top;\n",
       "    }\n",
       "\n",
       "    .dataframe thead th {\n",
       "        text-align: right;\n",
       "    }\n",
       "</style>\n",
       "<table border=\"1\" class=\"dataframe\">\n",
       "  <thead>\n",
       "    <tr style=\"text-align: right;\">\n",
       "      <th></th>\n",
       "      <th>ImageId</th>\n",
       "      <th>Label</th>\n",
       "    </tr>\n",
       "  </thead>\n",
       "  <tbody>\n",
       "    <tr>\n",
       "      <th>0</th>\n",
       "      <td>1</td>\n",
       "      <td>2</td>\n",
       "    </tr>\n",
       "    <tr>\n",
       "      <th>1</th>\n",
       "      <td>2</td>\n",
       "      <td>0</td>\n",
       "    </tr>\n",
       "    <tr>\n",
       "      <th>2</th>\n",
       "      <td>3</td>\n",
       "      <td>9</td>\n",
       "    </tr>\n",
       "    <tr>\n",
       "      <th>3</th>\n",
       "      <td>4</td>\n",
       "      <td>9</td>\n",
       "    </tr>\n",
       "    <tr>\n",
       "      <th>4</th>\n",
       "      <td>5</td>\n",
       "      <td>3</td>\n",
       "    </tr>\n",
       "    <tr>\n",
       "      <th>...</th>\n",
       "      <td>...</td>\n",
       "      <td>...</td>\n",
       "    </tr>\n",
       "    <tr>\n",
       "      <th>27995</th>\n",
       "      <td>27996</td>\n",
       "      <td>9</td>\n",
       "    </tr>\n",
       "    <tr>\n",
       "      <th>27996</th>\n",
       "      <td>27997</td>\n",
       "      <td>7</td>\n",
       "    </tr>\n",
       "    <tr>\n",
       "      <th>27997</th>\n",
       "      <td>27998</td>\n",
       "      <td>3</td>\n",
       "    </tr>\n",
       "    <tr>\n",
       "      <th>27998</th>\n",
       "      <td>27999</td>\n",
       "      <td>9</td>\n",
       "    </tr>\n",
       "    <tr>\n",
       "      <th>27999</th>\n",
       "      <td>28000</td>\n",
       "      <td>2</td>\n",
       "    </tr>\n",
       "  </tbody>\n",
       "</table>\n",
       "<p>28000 rows × 2 columns</p>\n",
       "</div>"
      ],
      "text/plain": [
       "       ImageId  Label\n",
       "0            1      2\n",
       "1            2      0\n",
       "2            3      9\n",
       "3            4      9\n",
       "4            5      3\n",
       "...        ...    ...\n",
       "27995    27996      9\n",
       "27996    27997      7\n",
       "27997    27998      3\n",
       "27998    27999      9\n",
       "27999    28000      2\n",
       "\n",
       "[28000 rows x 2 columns]"
      ]
     },
     "execution_count": 39,
     "metadata": {},
     "output_type": "execute_result"
    }
   ],
   "source": [
    "submission"
   ]
  }
 ],
 "metadata": {
  "kaggle": {
   "accelerator": "gpu",
   "dataSources": [
    {
     "databundleVersionId": 861823,
     "sourceId": 3004,
     "sourceType": "competition"
    }
   ],
   "dockerImageVersionId": 30636,
   "isGpuEnabled": true,
   "isInternetEnabled": true,
   "language": "python",
   "sourceType": "notebook"
  },
  "kernelspec": {
   "display_name": "Python 3",
   "language": "python",
   "name": "python3"
  },
  "language_info": {
   "codemirror_mode": {
    "name": "ipython",
    "version": 3
   },
   "file_extension": ".py",
   "mimetype": "text/x-python",
   "name": "python",
   "nbconvert_exporter": "python",
   "pygments_lexer": "ipython3",
   "version": "3.10.12"
  },
  "papermill": {
   "default_parameters": {},
   "duration": 328.758407,
   "end_time": "2024-01-19T21:46:59.566190",
   "environment_variables": {},
   "exception": null,
   "input_path": "__notebook__.ipynb",
   "output_path": "__notebook__.ipynb",
   "parameters": {},
   "start_time": "2024-01-19T21:41:30.807783",
   "version": "2.4.0"
  }
 },
 "nbformat": 4,
 "nbformat_minor": 5
}
